{
 "cells": [
  {
   "cell_type": "markdown",
   "id": "19c426ef-8df0-4269-913f-fc6aff21c9aa",
   "metadata": {},
   "source": [
    "## 配置文件\n",
    "\n",
    "初始化 Nornir 对象时需要加载配置，配置信息由一些配置块及其包含的参数组成，Nornir 默认情况下有 `core`、 `runner`、`inventory`、`ssh`、`logging` 五个部分的默认配置，如果有额外的配置需要指定，可以直接添加配置块，并在代码里面进行调用。\n",
    "\n",
    "Nornir 提供三种加载配置的方式：\n",
    "\n",
    "   1. 在代码中以字典类型配置\n",
    "   2. 使用系统环境变量\n",
    "   3. 使用 YAML 配置文件\n",
    "\n",
    "可以使用任意一种方式或者三种方式混合的方式提供配置信息，三种方式的优先级**从高到低**依次为：代码、系统环境变量、YAML 配置文件。\n",
    "\n",
    "### 使用代码\n",
    "\n",
    "```python\n",
    "nr = InitNornir(\n",
    "    # 使用字典的格式来进行配置\n",
    "    runner={\"plugin\": \"threaded\", \"options\": {\"num_workers\": 20}},\n",
    "    logging={\"log_file\": \"mylogs\", \"level\": \"DEBUG\"}\n",
    ")\n",
    "```\n",
    "\n",
    "### 使用环境变量\n",
    "\n",
    "每个配置项都有对应的环境变量键值，可以在下一节查看具体的值，Nornir 初始化时如果相关配置信息没有从代码的字典中找到，则从系统环境变量中查找，下面示例使用 `os` 模块的相关配置来代替已经存在的环境变量，具体使用中应根据对应的系统进行配置。\n",
    "\n",
    "```python\n",
    "# 已经存在的系统环境变量\n",
    "import os\n",
    "os.environ.setdefault(\"NORNIR_RUNNER_OPTIONS\",\"{'num_workers': 100}\")\n",
    "os.environ.setdefault(\"NORNIR_INVENTORY_OPTIONS\",\"{'host_file':'./hosts.yaml',}\")\n",
    "\n",
    "# 初始化 Nornir，没有传递参数，环境变量中可以读取到相关配置\n",
    "from nornir import InitNornir\n",
    "nr=InitNornir()\n",
    "\n",
    "nr.config.runner.options    # 查看线程数\n",
    "nr.inventory.hosts          # 查看主机\n",
    "```\n",
    "\n",
    "\n",
    "### 使用配置文件\n",
    "\n",
    "默认情况下 Nornir 会从程序运行的当前目录想读取 `hosts.yaml` 文件，如果不存在则会报错；如果 `hosts.yaml` 中有关于 `groups` 的配置，还会继续加载 `groups.yaml` 文件。\n",
    "\n",
    "```yaml\n",
    "---\n",
    "inventory:\n",
    "    plugin: SimpleInventory\n",
    "    options:\n",
    "        host_file: \"advanced_filtering/inventory/hosts.yaml\"\n",
    "        group_file: \"advanced_filtering/inventory/groups.yaml\"\n",
    "runner:\n",
    "    plugin: threaded\n",
    "    options:\n",
    "        num_workers: 20\n",
    "```\n"
   ]
  }
 ],
 "metadata": {
  "kernelspec": {
   "display_name": "Python 3 (ipykernel)",
   "language": "python",
   "name": "python3"
  },
  "language_info": {
   "codemirror_mode": {
    "name": "ipython",
    "version": 3
   },
   "file_extension": ".py",
   "mimetype": "text/x-python",
   "name": "python",
   "nbconvert_exporter": "python",
   "pygments_lexer": "ipython3",
   "version": "3.8.10"
  }
 },
 "nbformat": 4,
 "nbformat_minor": 5
}
