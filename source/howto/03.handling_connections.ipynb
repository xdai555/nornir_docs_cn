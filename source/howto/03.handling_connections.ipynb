{
 "cells": [
  {
   "cell_type": "markdown",
   "id": "ad648012-d4a0-4867-9e8a-3bafacb87b4b",
   "metadata": {},
   "source": [
    "## 处理设备连接\n",
    "\n",
    "### 自动处理\n",
    "\n",
    "默认情况下，Nornir 会自动处理设备的连接。这里指的意思是 Nornir 会自动连接到设备，执行完成任务后再退出设备。"
   ]
  },
  {
   "cell_type": "code",
   "execution_count": 1,
   "id": "4799cee8-cd7b-41d7-b1f3-c37b97bc33cb",
   "metadata": {},
   "outputs": [],
   "source": [
    "from nornir import InitNornir\n",
    "from nornir_utils.plugins.functions import print_result\n",
    "from nornir_napalm.plugins.tasks import napalm_get"
   ]
  },
  {
   "cell_type": "code",
   "execution_count": 2,
   "id": "821f85ad-8beb-4d3d-a7ac-d6b74a80cf3c",
   "metadata": {},
   "outputs": [],
   "source": [
    "nr = InitNornir(config_file=\"handling_connections/config.yaml\")\n",
    "r1 = nr.filter(name=\"rt01\")\n",
    "\n",
    "r = r1.run(\n",
    "    task=napalm_get,\n",
    "    getters=[\"facts\"]\n",
    ")"
   ]
  },
  {
   "cell_type": "code",
   "execution_count": 3,
   "id": "4ccda22b-93b1-431e-93b6-f9398d8e38a6",
   "metadata": {},
   "outputs": [
    {
     "name": "stdout",
     "output_type": "stream",
     "text": [
      "\u001b[1m\u001b[36mnapalm_get**********************************************************************\u001b[0m\n",
      "\u001b[0m\u001b[1m\u001b[34m* rt01 ** changed : False ******************************************************\u001b[0m\n",
      "\u001b[0m\u001b[1m\u001b[32mvvvv napalm_get ** changed : False vvvvvvvvvvvvvvvvvvvvvvvvvvvvvvvvvvvvvvvvvvvvv INFO\u001b[0m\n",
      "\u001b[0m{\u001b[0m \u001b[0m'facts'\u001b[0m: \u001b[0m{\u001b[0m \u001b[0m'fqdn'\u001b[0m: \u001b[0m'Unknown'\u001b[0m,\n",
      "             \u001b[0m'hostname'\u001b[0m: \u001b[0m'R1'\u001b[0m,\n",
      "             \u001b[0m'interface_list'\u001b[0m: \u001b[0m[]\u001b[0m,\n",
      "             \u001b[0m'model'\u001b[0m: \u001b[0m'Unknown'\u001b[0m,\n",
      "             \u001b[0m'os_version'\u001b[0m: \u001b[0m'Unknown'\u001b[0m,\n",
      "             \u001b[0m'serial_number'\u001b[0m: \u001b[0m[]\u001b[0m,\n",
      "             \u001b[0m'uptime'\u001b[0m: \u001b[0m-1\u001b[0m,\n",
      "             \u001b[0m'vendor'\u001b[0m: \u001b[0m'Huawei'\u001b[0m}\u001b[0m}\u001b[0m\n",
      "\u001b[0m\u001b[1m\u001b[32m^^^^ END napalm_get ^^^^^^^^^^^^^^^^^^^^^^^^^^^^^^^^^^^^^^^^^^^^^^^^^^^^^^^^^^^^\u001b[0m\n",
      "\u001b[0m"
     ]
    }
   ],
   "source": [
    "print_result(r)"
   ]
  },
  {
   "cell_type": "markdown",
   "id": "0d21c116-0c33-4dd4-b32e-fc785ad2015f",
   "metadata": {},
   "source": [
    "### 手动处理\n",
    "\n",
    "在某些情况下，可能需要手动管理设备的连接，让用户来决定什么时候连接到设备上，什么时候和设备断开连接。\n",
    "\n",
    "这时候可以使用 `open_connection`、`close_connection`、`close_connections` 和 `Nornir.close_connections` 这几个方法来实现："
   ]
  },
  {
   "cell_type": "code",
   "execution_count": 4,
   "id": "0cd27d95-5957-4032-a16a-4cb01f5c9ecd",
   "metadata": {},
   "outputs": [
    {
     "name": "stdout",
     "output_type": "stream",
     "text": [
      "开始连接：rt01\u001b[0m\n",
      "\u001b[0m连接成功: True\u001b[0m\n",
      "\u001b[0m"
     ]
    }
   ],
   "source": [
    "def task_manages_connection_manually(task):\n",
    "    print(f\"开始连接：{task.host.name}\")\n",
    "    task.host.open_connection(\"napalm\", configuration=task.nornir.config)\n",
    "    r = task.run(\n",
    "        task=napalm_get,\n",
    "        getters=[\"facts\"]\n",
    "    )\n",
    "    print(f\"连接成功: {not r[0].failed}\")\n",
    "    task.host.close_connection(\"napalm\")\n",
    "\n",
    "nr = InitNornir(config_file=\"handling_connections/config.yaml\")\n",
    "rtr = nr.filter(name=\"rt01\")\n",
    "r = rtr.run(\n",
    "    task=task_manages_connection_manually,\n",
    ")"
   ]
  },
  {
   "cell_type": "code",
   "execution_count": 5,
   "id": "22e9d7c4-bc58-425b-b376-36a148e0570b",
   "metadata": {},
   "outputs": [
    {
     "name": "stdout",
     "output_type": "stream",
     "text": [
      "\u001b[1m\u001b[36mtask_manages_connection_manually************************************************\u001b[0m\n",
      "\u001b[0m\u001b[1m\u001b[34m* rt01 ** changed : False ******************************************************\u001b[0m\n",
      "\u001b[0m\u001b[1m\u001b[32mvvvv task_manages_connection_manually ** changed : False vvvvvvvvvvvvvvvvvvvvvvv INFO\u001b[0m\n",
      "\u001b[0m\u001b[1m\u001b[32m---- napalm_get ** changed : False --------------------------------------------- INFO\u001b[0m\n",
      "\u001b[0m{\u001b[0m \u001b[0m'facts'\u001b[0m: \u001b[0m{\u001b[0m \u001b[0m'fqdn'\u001b[0m: \u001b[0m'Unknown'\u001b[0m,\n",
      "             \u001b[0m'hostname'\u001b[0m: \u001b[0m'R1'\u001b[0m,\n",
      "             \u001b[0m'interface_list'\u001b[0m: \u001b[0m[]\u001b[0m,\n",
      "             \u001b[0m'model'\u001b[0m: \u001b[0m'Unknown'\u001b[0m,\n",
      "             \u001b[0m'os_version'\u001b[0m: \u001b[0m'Unknown'\u001b[0m,\n",
      "             \u001b[0m'serial_number'\u001b[0m: \u001b[0m[]\u001b[0m,\n",
      "             \u001b[0m'uptime'\u001b[0m: \u001b[0m-1\u001b[0m,\n",
      "             \u001b[0m'vendor'\u001b[0m: \u001b[0m'Huawei'\u001b[0m}\u001b[0m}\u001b[0m\n",
      "\u001b[0m\u001b[1m\u001b[32m^^^^ END task_manages_connection_manually ^^^^^^^^^^^^^^^^^^^^^^^^^^^^^^^^^^^^^^\u001b[0m\n",
      "\u001b[0m"
     ]
    }
   ],
   "source": [
    "print_result(r)"
   ]
  },
  {
   "cell_type": "markdown",
   "id": "c2d2e634-f713-4141-a632-b31d5b23b7fe",
   "metadata": {},
   "source": [
    "### 指定连接参数\n",
    "\n",
    "使用 `open_connection` 时，可以指定所需要的任何参数，如果没有指定或者如果让 nornir 自动打开设备连接，nornir 将会从主机清单中读取这些连接参数。\n",
    "\n",
    "在主机清单中的 `connection_options` 中指定设备的连接方式，然后在 `extras` -> `optional_args` 中添加连接插件的额外参数，连接参数通常是下面这种格式："
   ]
  },
  {
   "cell_type": "code",
   "execution_count": 6,
   "id": "fd693b2f-768c-4c08-a45f-def89f902140",
   "metadata": {},
   "outputs": [],
   "source": [
    "# %load handling_connections/inventory/test-hosts.yaml\n",
    "dev1.group_1:\n",
    "    port: 22\n",
    "    hostname: 192.168.56.20\n",
    "    username: username\n",
    "    password: password\n",
    "    platform: ios\n",
    "    connection_options:\n",
    "        netmiko:\n",
    "            port: 22\n",
    "            hostname:\n",
    "            username: user\n",
    "            password: pass\n",
    "            platform: ios\n",
    "            extras:\n",
    "                optional_args:\n",
    "                    secret: secret\n",
    "                    session_log: path/to/save_log\n",
    "        \n",
    "        napalm:\n",
    "            platform: ios\n",
    "            extras:\n",
    "                optional_args:\n",
    "                    path: path/to/save_log\n",
    "        \n",
    "        dummy:\n",
    "            hostname: dummy_from_host\n",
    "            port:\n",
    "            username:\n",
    "            password:\n",
    "            platform:\n",
    "            extras:\n",
    "                blah: from_host"
   ]
  }
 ],
 "metadata": {
  "kernelspec": {
   "display_name": "Python 3 (ipykernel)",
   "language": "python",
   "name": "python3"
  },
  "language_info": {
   "codemirror_mode": {
    "name": "ipython",
    "version": 3
   },
   "file_extension": ".py",
   "mimetype": "text/x-python",
   "name": "python",
   "nbconvert_exporter": "python",
   "pygments_lexer": "ipython3",
   "version": "3.8.10"
  }
 },
 "nbformat": 4,
 "nbformat_minor": 5
}
