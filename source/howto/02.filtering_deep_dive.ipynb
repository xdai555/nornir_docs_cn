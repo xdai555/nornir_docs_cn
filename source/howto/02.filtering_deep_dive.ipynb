{
 "cells": [
  {
   "cell_type": "markdown",
   "id": "5a5300d0-394a-418a-ad83-da06a8254924",
   "metadata": {},
   "source": [
    "## 深入理解过滤器\n",
    "\n",
    "在本教程中，一起来探索 nornir 过滤的强大功能，并演示为什么 nornir 是一流的主机清单框架。\n",
    "\n",
    "本教程涉及的内容在入门教程中均有涉及，更多的是结合现网案例来进行说明过滤器的使用方法。\n",
    "\n",
    "本教程将演示一些常见的网络用例以及如何将 nornir 过滤精确地定位到目标主机或组。\n",
    "\n",
    "### 主机清单教程\n",
    "\n",
    "先初始化一个 Nornir 对象："
   ]
  },
  {
   "cell_type": "code",
   "execution_count": 1,
   "id": "370489fc-1fd8-4cf4-a190-7e6075eb1c46",
   "metadata": {},
   "outputs": [],
   "source": [
    "from nornir import InitNornir\n",
    "from nornir.core.filter import F\n",
    "\n",
    "nr = InitNornir(config_file=\"filtering_deep_dive/config.yaml\")"
   ]
  },
  {
   "cell_type": "markdown",
   "id": "3854669e-0168-4957-92b7-1f138de32c92",
   "metadata": {},
   "source": [
    "接下来，加载本次教程使用的 hosts.yaml 文件。\n",
    "\n",
    "不要被库存的大小或其中的内容所淹没，因为我们将在本教程后面更详细地探讨这一点："
   ]
  },
  {
   "cell_type": "markdown",
   "id": "63061627-4cd3-4436-a67c-033e6af673f7",
   "metadata": {},
   "source": [
    "接下来，让我们看看我们的教程 groups.yaml 文件。\n",
    "\n",
    "这里有多种组类型。\n",
    "\n",
    "一些似乎基于网络操作系统，一些基于操作环境，而另一些基于物理位置。\n",
    "\n",
    "nornir 对组的组成或结构没有任何限制，你可以随意进行配置："
   ]
  },
  {
   "cell_type": "markdown",
   "id": "c6492377-2372-4211-a996-5331083f8825",
   "metadata": {},
   "source": [
    "### 自定义主机清单数据\n",
    "\n",
    "在我们深入研究过滤之前，介绍一些关于自定义数据的核心概念很重要。\n",
    "\n",
    "nornir 允许您以您选择的任何键/值数据结构填充主机上的自定义数据或数据键下的对象组。\n",
    "\n",
    "您可以随意命名这些键以满足您的业务需求。\n",
    "\n",
    "首先，让我们探索一下引入 hosts.yaml 和 groups.yaml 文件的初始清单中的一个主机和一组的摘录。\n",
    "\n",
    "注意：这些文件已被缩减为每个文件仅包含一个条目，并且为了便于阅读还分散了一些注释"
   ]
  },
  {
   "cell_type": "code",
   "execution_count": null,
   "id": "a0fee2fb-ca83-42cf-8db5-3b94f28ec17e",
   "metadata": {},
   "outputs": [],
   "source": []
  },
  {
   "cell_type": "code",
   "execution_count": null,
   "id": "161832f5-e30a-47d2-b064-df0e828fd845",
   "metadata": {},
   "outputs": [],
   "source": []
  },
  {
   "cell_type": "markdown",
   "id": "0c95c515-9e9a-4b71-b100-90f51860644e",
   "metadata": {},
   "source": [
    "正如您在上面的两个示例中看到的那样，您可以以任何您喜欢的方式使用自定义数据来记录您喜欢的任何信息。\n",
    "\n",
    "上面的示例是数据键下的“平面”数据结构，但您可以将数据结构嵌套在任何键/值结构中以满足您的需要。\n",
    "\n",
    "在下面的示例中，我们采用 10.0.0.16 的 mgmt_ip 值，并在备用数据结构下将其重定向到键 mgmt，以便将来扩展："
   ]
  },
  {
   "cell_type": "code",
   "execution_count": null,
   "id": "89809d9c-a5d7-4745-a7e9-547296b04d42",
   "metadata": {},
   "outputs": [],
   "source": []
  },
  {
   "cell_type": "markdown",
   "id": "e62d1cb9-59e9-4f2a-970a-822993271003",
   "metadata": {},
   "source": [
    "当然，随着时间的推移，您需要存储的自定义数据可能会发生变化，理想情况下，您可以使用尽可能多的业务信息来丰富您的自定义数据。\n",
    "\n",
    "在下面的示例中，一组与站点位置相关的新键/值对现在存储在位置键下。\n",
    "\n",
    "这意味着任何利用现有数据结构的现有代码都不需要重构："
   ]
  },
  {
   "cell_type": "code",
   "execution_count": null,
   "id": "2323f2b6-2303-4b75-8e38-acc76756ee38",
   "metadata": {},
   "outputs": [],
   "source": []
  },
  {
   "cell_type": "markdown",
   "id": "01daf6b5-8083-49dc-bcf9-1981fc05a52f",
   "metadata": {},
   "source": [
    "### 查看主机/组数据\n",
    "\n",
    "在我们恢复过滤之前，我们将向您展示如何访问所有可访问或归属于主机或组的数据。\n",
    "\n",
    "首先，我们将在单个主机 lab-csr-011.lab.norn.local 上初始化 nornir 并过滤清单：\n"
   ]
  },
  {
   "cell_type": "code",
   "execution_count": null,
   "id": "b4ad9f9f-8145-4aef-9e75-9b9a7c93b8f7",
   "metadata": {},
   "outputs": [],
   "source": []
  },
  {
   "cell_type": "markdown",
   "id": "506dad45-bf64-4f56-85b4-fa47c7751c2c",
   "metadata": {},
   "source": [
    "我们现在可以通过转储字典结构打印出与主机 lab-csr-011.lab.norn.local 关联的所有数据："
   ]
  },
  {
   "cell_type": "code",
   "execution_count": null,
   "id": "3f4b24b8-4f6a-4432-a3eb-28a719accf5c",
   "metadata": {},
   "outputs": [],
   "source": []
  },
  {
   "cell_type": "markdown",
   "id": "f500e0c1-e396-49c1-b306-818969043e5f",
   "metadata": {},
   "source": [
    "正如您在上面看到的，我们所有与主机相关的数据都可以在任何后续代码中查看和使用。\n",
    "\n",
    "无论我们使用 JSON 还是 YAML，数据结构都保持不变。\n",
    "\n",
    "以下是显示某些键值的一些示例："
   ]
  },
  {
   "cell_type": "code",
   "execution_count": null,
   "id": "eef0f2ee-c4cf-4b4e-879f-2cca7ab3dd69",
   "metadata": {},
   "outputs": [],
   "source": []
  }
 ],
 "metadata": {
  "kernelspec": {
   "display_name": "Python 3 (ipykernel)",
   "language": "python",
   "name": "python3"
  },
  "language_info": {
   "codemirror_mode": {
    "name": "ipython",
    "version": 3
   },
   "file_extension": ".py",
   "mimetype": "text/x-python",
   "name": "python",
   "nbconvert_exporter": "python",
   "pygments_lexer": "ipython3",
   "version": "3.8.10"
  }
 },
 "nbformat": 4,
 "nbformat_minor": 5
}
