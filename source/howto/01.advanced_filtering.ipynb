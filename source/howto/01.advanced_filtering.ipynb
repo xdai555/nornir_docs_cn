{
 "cells": [
  {
   "cell_type": "markdown",
   "id": "d59e9f28-6568-4b87-af46-11a88c3dbaf9",
   "metadata": {},
   "source": [
    "## 高级过滤方法\n",
    "\n",
    "这节内容主要介绍使用 `F` 对象来做高级过滤。如果你已经足够了解 `F` 对象的操作方法，可以直接到本节最后翻看两个新的列表过滤方法：`__any` 和 `__all`。\n",
    "\n",
    "先从初始化 `nornir` 对象开始，查看现在的主机清单和组："
   ]
  },
  {
   "cell_type": "code",
   "execution_count": 1,
   "id": "0522bc66-c20e-4fc1-b3b2-4c68da124b2e",
   "metadata": {},
   "outputs": [],
   "source": [
    "from nornir import InitNornir\n",
    "from nornir.core.filter import F\n",
    "\n",
    "nr = InitNornir(config_file=\"advanced_filtering/config.yaml\")"
   ]
  },
  {
   "cell_type": "code",
   "execution_count": 15,
   "id": "0e084c74-371d-47c8-a973-2087dc3e4913",
   "metadata": {
    "jupyter": {
     "source_hidden": true
    },
    "tags": []
   },
   "outputs": [],
   "source": [
    "# %load advanced_filtering/inventory/hosts.yaml\n",
    "---\n",
    "cat:\n",
    "    groups:\n",
    "        - terrestrial\n",
    "        - mammal\n",
    "    data:\n",
    "        domestic: true\n",
    "        diet: omnivore\n",
    "        additional_data:\n",
    "            lifespan: 17\n",
    "            famous_members:\n",
    "                - garfield\n",
    "                - felix\n",
    "                - grumpy\n",
    "\n",
    "bat:\n",
    "    groups:\n",
    "        - terrestrial\n",
    "        - mammal\n",
    "    data:\n",
    "        domestic: false\n",
    "        fly: true\n",
    "        diet: carnivore\n",
    "        additional_data:\n",
    "            lifespan: 15\n",
    "            famous_members:\n",
    "                - batman\n",
    "                - count chocula\n",
    "                - nosferatu\n",
    "\n",
    "eagle:\n",
    "    groups:\n",
    "        - terrestrial\n",
    "        - bird\n",
    "    data:\n",
    "        domestic: false\n",
    "        diet: carnivore\n",
    "        additional_data:\n",
    "            lifespan: 50\n",
    "            famous_members:\n",
    "                - thorondor\n",
    "                - sam\n",
    "\n",
    "canary:\n",
    "    groups:\n",
    "        - terrestrial\n",
    "        - bird\n",
    "    data:\n",
    "        domestic: true\n",
    "        diet: herbivore\n",
    "        additional_data:\n",
    "            lifespan: 15\n",
    "            famous_members:\n",
    "                - tweetie\n",
    "\n",
    "caterpillaer:\n",
    "    groups:\n",
    "        - terrestrial\n",
    "        - invertebrate\n",
    "    data:\n",
    "        domestic: false\n",
    "        diet: herbivore\n",
    "        additional_data:\n",
    "            lifespan: 1\n",
    "            famous_members:\n",
    "                - Hookah-Smoking\n",
    "\n",
    "octopus:\n",
    "    groups:\n",
    "        - marine\n",
    "        - invertebrate\n",
    "    data:\n",
    "        domestic: false\n",
    "        diet: carnivore\n",
    "        additional_data:\n",
    "            lifespan: 1\n",
    "            famous_members:\n",
    "                - sharktopus\n"
   ]
  },
  {
   "cell_type": "code",
   "execution_count": 4,
   "id": "d56fddfd-587f-4ec8-8b12-efa938421bbd",
   "metadata": {
    "jupyter": {
     "source_hidden": true
    },
    "tags": []
   },
   "outputs": [],
   "source": [
    "# %load advanced_filtering/inventory/groups.yaml\n",
    "---\n",
    "mammal:\n",
    "    data:\n",
    "        reproduction: birth\n",
    "        fly: false\n",
    "\n",
    "bird:\n",
    "    data:\n",
    "        reproduction: eggs\n",
    "        fly: true\n",
    "\n",
    "invertebrate:\n",
    "    data:\n",
    "        reproduction: mitosis\n",
    "        fly: false\n",
    "\n",
    "terrestrial: {}\n",
    "marine: {}\n"
   ]
  },
  {
   "cell_type": "markdown",
   "id": "7f7817c5-7c71-4c4c-b21d-453dbe1b2652",
   "metadata": {},
   "source": [
    "在上面的主机及主机组文件中，建立了具有不同属性的动物分类。`F` 对象可以只需在前面加上两个下划线和魔术方法的名称即可访问每种类型的魔术方法。例如，如果想检查一个列表是否包含一个特定的元素，你可以在前面加上 `__contains`。现在来查找属于鸟类（`bird`）的所有动物："
   ]
  },
  {
   "cell_type": "code",
   "execution_count": 2,
   "id": "e1b7a0d5-7ded-46be-882f-8cb789aacc96",
   "metadata": {},
   "outputs": [
    {
     "name": "stdout",
     "output_type": "stream",
     "text": [
      "dict_keys(['eagle', 'canary'])\n"
     ]
    }
   ],
   "source": [
    "birds = nr.filter(F(groups__contains=\"bird\"))\n",
    "print(birds.inventory.hosts.keys())\n",
    "# dict_keys(['鹰', '金丝雀'])"
   ]
  },
  {
   "cell_type": "markdown",
   "id": "6796cb34-6915-4401-91d7-041d96f5cc60",
   "metadata": {},
   "source": [
    "还可以通过添加 `~` 来对 `F `对象进行取反："
   ]
  },
  {
   "cell_type": "code",
   "execution_count": 3,
   "id": "22d76cc3-1b28-4fdb-a7c3-b315f1543575",
   "metadata": {},
   "outputs": [
    {
     "name": "stdout",
     "output_type": "stream",
     "text": [
      "dict_keys(['cat', 'bat', 'caterpillaer', 'octopus'])\n"
     ]
    }
   ],
   "source": [
    "not_birds = nr.filter(~F(groups__contains=\"bird\"))\n",
    "print(not_birds.inventory.hosts.keys())\n",
    "# dict_keys(['猫', '蝙蝠', '毛毛虫', '章鱼'])"
   ]
  },
  {
   "cell_type": "markdown",
   "id": "74dfeab6-3ff8-4fe1-beec-04ac2ce5bd68",
   "metadata": {},
   "source": [
    "还可以组合 `F` 对象并使用符号 `&` 和 `|` 执行 AND 和 OR 运算："
   ]
  },
  {
   "cell_type": "code",
   "execution_count": 4,
   "id": "7bf88fbe-3b06-4094-a8ec-45d87a068bac",
   "metadata": {},
   "outputs": [
    {
     "name": "stdout",
     "output_type": "stream",
     "text": [
      "dict_keys(['cat', 'eagle', 'canary'])\n"
     ]
    }
   ],
   "source": [
    "# 筛选鸟类（bird）或者家养动物（domestic）\n",
    "domestic_or_bird = nr.filter(F(groups__contains=\"bird\") | F(domestic=True))\n",
    "print(domestic_or_bird.inventory.hosts.keys())\n",
    "# dict_keys(['猫', '鹰', '金丝雀'])"
   ]
  },
  {
   "cell_type": "code",
   "execution_count": 5,
   "id": "539480e5-251d-47a0-98d0-1fec48821e50",
   "metadata": {},
   "outputs": [
    {
     "name": "stdout",
     "output_type": "stream",
     "text": [
      "dict_keys(['cat'])\n"
     ]
    }
   ],
   "source": [
    "# 筛选哺乳动物（mammal）并且是家养动物（domestic）\n",
    "domestic_mammals = nr.filter(F(groups__contains=\"mammal\") & F(domestic=True))\n",
    "print(domestic_mammals.inventory.hosts.keys())\n",
    "# dict_keys(['猫'])"
   ]
  },
  {
   "cell_type": "markdown",
   "id": "011f0a2e-88ed-491b-8360-b5e38434d814",
   "metadata": {},
   "source": [
    "也可以将所有符号进行组合："
   ]
  },
  {
   "cell_type": "code",
   "execution_count": 6,
   "id": "412d93db-1bc8-44ff-b572-8c4a01ef6d9f",
   "metadata": {},
   "outputs": [
    {
     "name": "stdout",
     "output_type": "stream",
     "text": [
      "dict_keys(['canary'])\n"
     ]
    }
   ],
   "source": [
    "# 筛选会飞的动物（fly）并且不是食肉动物（cannivore）\n",
    "flying_not_carnivore = nr.filter(F(fly=True) & ~F(diet=\"carnivore\"))\n",
    "print(flying_not_carnivore.inventory.hosts.keys())\n",
    "# dict_keys(['金丝雀'])"
   ]
  },
  {
   "cell_type": "markdown",
   "id": "7bf8edc0-f750-4d21-aafd-5fc4c055af19",
   "metadata": {},
   "source": [
    "可以像访问魔法方法一样访问嵌套数据，方法是在要访问的数据前面添加双下划线；在数据筛选之后，还能继续添加双下划线来访问最终数据的魔法方法。\n",
    "例如在示例数据中，筛选寿命（lifespan）最终的结果是一个整数，整数可以进行比较运算，因为它具有双下划线魔术方法，所以可以对最终的数据进行再次调用魔术方法。\n",
    "来筛选一下寿命（lifespan）大于 15 的动物："
   ]
  },
  {
   "cell_type": "code",
   "execution_count": 7,
   "id": "6643ae5a-d3da-4174-ae31-0775091213d1",
   "metadata": {},
   "outputs": [
    {
     "name": "stdout",
     "output_type": "stream",
     "text": [
      "dict_keys(['cat', 'bat', 'eagle', 'canary'])\n"
     ]
    }
   ],
   "source": [
    "long_lived = nr.filter(F(additional_data__lifespan__ge=15))   # 调用了整数的 __ge__ \n",
    "print(long_lived.inventory.hosts.keys())\n",
    "# dict_keys(['猫', '蝙蝠', '鹰', '金丝雀'])"
   ]
  },
  {
   "cell_type": "code",
   "execution_count": 8,
   "id": "711432fe-3410-449a-b72b-7aab6837981a",
   "metadata": {},
   "outputs": [
    {
     "data": {
      "text/plain": [
       "False"
      ]
     },
     "execution_count": 8,
     "metadata": {},
     "output_type": "execute_result"
    }
   ],
   "source": [
    "# 结合这个例子，增加对上一个代码框的理解\n",
    "# 使用整数的魔术方法进行比较大小\n",
    "# 定义 a = 1，b = 2 \n",
    "a = 1\n",
    "b = 2\n",
    "# 调用 a 的 魔术方法，将 b 作为参数传入，等价于 a >= b\n",
    "a.__ge__(b)"
   ]
  },
  {
   "cell_type": "markdown",
   "id": "7f78be9a-5cca-49f5-b4da-cd34446f597c",
   "metadata": {},
   "source": [
    "除了 `__contains` 外，还有两个选项可以对列表进行处理：`any` 和 `all`。 `any` 代表列表中的元素是 OR 的关系，满足一个条件就可以；`all` 代表列表中的元素是 AND 的关系，必须满足所有的条件才行："
   ]
  },
  {
   "cell_type": "code",
   "execution_count": 9,
   "id": "682c2bfe-25f6-4ed0-a25c-a759fa4f17c1",
   "metadata": {},
   "outputs": [
    {
     "name": "stdout",
     "output_type": "stream",
     "text": [
      "dict_keys(['eagle', 'canary', 'caterpillaer', 'octopus'])\n"
     ]
    }
   ],
   "source": [
    "# 筛选鸟类（bird）或者无脊椎动物（invertebrates）\n",
    "bird_or_invertebrates = nr.filter(F(groups__any=[\"bird\", \"invertebrate\"]))\n",
    "print(bird_or_invertebrates.inventory.hosts.keys())\n",
    "# dict_keys(['鹰', '金丝雀', '毛毛虫', '章鱼'])"
   ]
  },
  {
   "cell_type": "code",
   "execution_count": 10,
   "id": "a1cbde61-fd96-4682-b96b-bc23ee6195aa",
   "metadata": {},
   "outputs": [
    {
     "name": "stdout",
     "output_type": "stream",
     "text": [
      "dict_keys(['octopus'])\n"
     ]
    }
   ],
   "source": [
    "# 筛选海生动物（marine）并且是无脊椎动物（invertebrates）\n",
    "marine_and_invertebrates = nr.filter(F(groups__all=[\"marine\", \"invertebrate\"]))\n",
    "print(marine_and_invertebrates.inventory.hosts.keys())\n",
    "# dict_keys(['章鱼'])"
   ]
  },
  {
   "cell_type": "markdown",
   "id": "3700f585-0014-4eb5-b844-589ba0386bca",
   "metadata": {},
   "source": [
    "从示例中可以看出，如果需要对多个组进行过滤操作的话，某些情况下使用 `any` 和 `all` 比使用 `__contains` 和多级运算 `&`、`~`、`|` 更为方便。\n",
    "\n",
    "下一节中，将以网络设备作为对象，深入了解过滤功能在网络自动化中的使用方法。"
   ]
  },
  {
   "cell_type": "markdown",
   "id": "85efb546-47aa-4da1-9ef9-f61e75ed0350",
   "metadata": {},
   "source": [
    "---\n",
    "[上一节](#) | [下一节](#) | [返回首页](#)"
   ]
  }
 ],
 "metadata": {
  "kernelspec": {
   "display_name": "Python 3 (ipykernel)",
   "language": "python",
   "name": "python3"
  },
  "language_info": {
   "codemirror_mode": {
    "name": "ipython",
    "version": 3
   },
   "file_extension": ".py",
   "mimetype": "text/x-python",
   "name": "python",
   "nbconvert_exporter": "python",
   "pygments_lexer": "ipython3",
   "version": "3.8.10"
  }
 },
 "nbformat": 4,
 "nbformat_minor": 5
}
