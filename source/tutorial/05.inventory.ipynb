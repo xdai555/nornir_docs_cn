{
 "cells": [
  {
   "cell_type": "markdown",
   "id": "266f05b3-a916-4ad2-afd6-af7342f26f39",
   "metadata": {
    "tags": []
   },
   "source": [
    "## 主机清单\n",
    "\n",
    "**主机清单（Inventory）** 是 nornir 最重要的部分，它由 hosts、groups、defaults 三部分组成。它还支持多种插件，默认情况下使用 `SimpleInventory` 插件。在之前的版本中，nornir 还支持 Ansible、Netbox 等主机格式的插件，3.0 版本之后，除了最核心的功能外，其他的功能都需要手动导入插件来使用。\n",
    "\n",
    "在本教程中使用 `SimpleInventory` 插件来了解主机清单相关的内容。\n",
    "\n",
    "可以在 [nornir.tech](https://nornir.tech/nornir/plugins/) 中获取当前已经公开发布的插件。\n",
    "\n",
    "在 `SimpleInventory` 插件中，需要 hosts、groups、defaults 三个文件来存储信息，其中 groups、defaults 文件不是必需的。\n",
    "\n",
    "主机相关的文件都使用 YAML 格式来保存数据，YAML 是一种可读性较好的标记语言，有关 YAML 的内容，可以查看 [YAML 入门教程](https://www.runoob.com/w3cnote/yaml-intro.html)或者 [YAML 官方手册](http://yaml.org/spec/1.2/spec.html)。\n",
    "\n",
    "现在来看一个 hosts 的示例文件："
   ]
  },
  {
   "cell_type": "code",
   "execution_count": 1,
   "id": "06d724f5-d558-418b-9791-2691adcf8740",
   "metadata": {
    "jupyter": {
     "source_hidden": true
    },
    "tags": []
   },
   "outputs": [],
   "source": [
    "# %load files/inventory/hosts.yaml\n",
    "---\n",
    "host01.bj:\n",
    "    hostname: 127.0.0.1\n",
    "    port: 2201\n",
    "    username: netdevops\n",
    "    password: netdevops\n",
    "    platform: linux\n",
    "    groups:\n",
    "        - bj\n",
    "    data:\n",
    "        site: bj\n",
    "        role: host\n",
    "        type: host\n",
    "        nested_data:\n",
    "            a_dict:\n",
    "                a: 1\n",
    "                b: 2\n",
    "            a_list: [1, 2]\n",
    "            a_string: \"this is a web server\"\n",
    "\n",
    "spine00.bj:\n",
    "    hostname: 127.0.0.1\n",
    "    username: netdevops\n",
    "    password: netdevops\n",
    "    port: 12444\n",
    "    platform: ios\n",
    "    groups:\n",
    "        - bj\n",
    "    data:\n",
    "        site: bj\n",
    "        role: spine\n",
    "        type: network_device\n",
    "\n",
    "spine01.bj:\n",
    "    hostname: 127.0.0.1\n",
    "    username: netdevops\n",
    "    password: \"\"\n",
    "    platform: junos\n",
    "    port: 12204\n",
    "    groups:\n",
    "        - bj\n",
    "    data:\n",
    "        site: bj\n",
    "        role: spine\n",
    "        type: network_device\n",
    "\n",
    "leaf00.bj:\n",
    "    hostname: 127.0.0.1\n",
    "    username: netdevops\n",
    "    password: netdevops\n",
    "    port: 12443\n",
    "    platform: hp_comware\n",
    "    groups:\n",
    "        - bj\n",
    "    data:\n",
    "        site: bj\n",
    "        role: leaf\n",
    "        type: network_device\n",
    "        asn: 65100\n",
    "\n",
    "leaf01.bj:\n",
    "    hostname: 127.0.0.1\n",
    "    username: netdevops\n",
    "    password: \"\"\n",
    "    port: 12203\n",
    "    platform: huawei\n",
    "    groups:\n",
    "        - bj\n",
    "    data:\n",
    "        site: bj\n",
    "        role: leaf\n",
    "        type: network_device\n",
    "        asn: 65101\n",
    "\n",
    "host01.gz:\n",
    "    groups:\n",
    "        - gz\n",
    "    platform: linux\n",
    "    data:\n",
    "        site: gz\n",
    "        role: host\n",
    "        type: host\n",
    "\n",
    "spine01.gz:\n",
    "    hostname: 127.0.0.1\n",
    "    username: netdevops\n",
    "    password: netdevops\n",
    "    port: 12444\n",
    "    platform: eos\n",
    "    groups:\n",
    "        - gz\n",
    "    data:\n",
    "        site: gz\n",
    "        role: spine\n",
    "        type: network_device\n",
    "\n",
    "leaf01.gz:\n",
    "    hostname: 127.0.0.1\n",
    "    username: netdevops\n",
    "    password: netdevops\n",
    "    port: 12443\n",
    "    platform: eos\n",
    "    groups:\n",
    "        - gz\n",
    "    data:\n",
    "        site: gz\n",
    "        role: leaf\n",
    "        type: network_device\n",
    "\n",
    "host00:\n",
    "    groups:\n",
    "        - gz\n",
    "        - bj\n",
    "\n",
    "host01:\n",
    "    groups:\n",
    "        - bj\n",
    "        - gz"
   ]
  },
  {
   "cell_type": "markdown",
   "id": "f2e04a09-07ea-4b34-a971-e594c43dce25",
   "metadata": {
    "tags": []
   },
   "source": [
    "主机文件是由键值对组成的映射表，其中最外层的是主机名，第二层是主机的一些基本信息，第三层、第四层是主机的其他相关信息。可以通过以下代码来查看一个主机对象的数据模型："
   ]
  },
  {
   "cell_type": "code",
   "execution_count": 2,
   "id": "ab4f3ce8-039a-4c2f-abac-897733cf7b0b",
   "metadata": {},
   "outputs": [
    {
     "name": "stdout",
     "output_type": "stream",
     "text": [
      "{\n",
      "    \"name\": \"str\",\n",
      "    \"connection_options\": {\n",
      "        \"$connection_type\": {\n",
      "            \"extras\": {\n",
      "                \"$key\": \"$value\"\n",
      "            },\n",
      "            \"hostname\": \"str\",\n",
      "            \"port\": \"int\",\n",
      "            \"username\": \"str\",\n",
      "            \"password\": \"str\",\n",
      "            \"platform\": \"str\"\n",
      "        }\n",
      "    },\n",
      "    \"groups\": [\n",
      "        \"$group_name\"\n",
      "    ],\n",
      "    \"data\": {\n",
      "        \"$key\": \"$value\"\n",
      "    },\n",
      "    \"hostname\": \"str\",\n",
      "    \"port\": \"int\",\n",
      "    \"username\": \"str\",\n",
      "    \"password\": \"str\",\n",
      "    \"platform\": \"str\"\n",
      "}\n"
     ]
    }
   ],
   "source": [
    "from nornir.core.inventory import Host\n",
    "import json\n",
    "print(json.dumps(Host.schema(), indent=4))"
   ]
  },
  {
   "cell_type": "markdown",
   "id": "2b24b00b-0b13-431c-a99e-d4d0c2a1a6a8",
   "metadata": {},
   "source": [
    "通过这段代码可以看到一个主机对象可以包含的所有信息。\n",
    "\n",
    "如果需要登录设备，那么 `connection_options` 里面的 5 个参数 hostname、port、username、password、platform 是必须包含的（注：默认情况下，`connection_options` 会从第二层进行取值，如果设备的登录地址和资产管理地址不一样，可以在该选项里面单独指定），如果有额外的连接参数需要传递（如 enable password 、指定连接方式等），则需要在 `extras` 里面进行添加；其他字段都是可以选的，其中用户可以将所需的任意信息定义到 `data` 字段中。\n",
    "\n",
    "当然，如果主机信息只做资产管理的作用，没有登录设备的需求，除了最外层的主机名以外，其他字段都是可选的。"
   ]
  },
  {
   "cell_type": "markdown",
   "id": "7cfb43c3-fff7-4c94-9a2c-b377fb547736",
   "metadata": {},
   "source": [
    "groups 文件和 hosts 文件一样，也是由键值对映射组成，来看一个示例："
   ]
  },
  {
   "cell_type": "code",
   "execution_count": 3,
   "id": "d22340a4-7cef-4251-a61e-29679d5e54c5",
   "metadata": {},
   "outputs": [],
   "source": [
    "# %load files/inventory/groups.yaml\n",
    "---\n",
    "global:\n",
    "    data:\n",
    "        domain: global.local\n",
    "        asn: 1\n",
    "\n",
    "north:\n",
    "    data:\n",
    "        asn: 65100\n",
    "\n",
    "bj:\n",
    "    groups:\n",
    "        - north\n",
    "        - global\n",
    "\n",
    "gz:\n",
    "    data:\n",
    "        asn: 65000\n",
    "        vlans:\n",
    "          100: wired\n",
    "          200: wireless"
   ]
  },
  {
   "cell_type": "markdown",
   "id": "5b6e4539-0f31-407b-b6f3-deba0692abbe",
   "metadata": {},
   "source": [
    "最后，defaults 文件与之前描述的 Host 对象架构一样，但是它只有 `data` 字段，没有其他外层键值对。"
   ]
  },
  {
   "cell_type": "code",
   "execution_count": 4,
   "id": "1d480dec-6968-4ae6-b72f-a7344d854133",
   "metadata": {},
   "outputs": [],
   "source": [
    "# %load files/inventory/defaults.yaml\n",
    "---\n",
    "data:\n",
    "    domain: netdevops.local"
   ]
  },
  {
   "cell_type": "markdown",
   "id": "d7f3d340-d0d6-4623-9bf2-bd3ac1f5b29b",
   "metadata": {},
   "source": [
    "### 访问主机清单\n",
    "\n",
    "可以通过 nornir 对象的 `inventory` 属性来访问主机清单。"
   ]
  },
  {
   "cell_type": "code",
   "execution_count": 5,
   "id": "b2f3e48b-485d-4d33-aa41-26d7cd1ba91f",
   "metadata": {},
   "outputs": [],
   "source": [
    "from nornir import InitNornir\n",
    "nr = InitNornir(config_file=\"files/config.yaml\")"
   ]
  },
  {
   "cell_type": "markdown",
   "id": "631b422c-55bb-44af-9faa-d83f5ad6ee75",
   "metadata": {},
   "source": [
    "主机清单有两个类字典（dict-like）的属性：`hosts` 和 `groups`，通过访问该属性，可以获取到当前有哪些主机和组。"
   ]
  },
  {
   "cell_type": "markdown",
   "id": "05700e17-3ec9-49b4-938d-1f3641ef3165",
   "metadata": {},
   "source": [
    "查看加载的配置文件中包含哪些主机："
   ]
  },
  {
   "cell_type": "code",
   "execution_count": 6,
   "id": "b008a7df-508f-433e-a9b3-9c99d1fe1a8d",
   "metadata": {},
   "outputs": [
    {
     "data": {
      "text/plain": [
       "{'host01.bj': Host: host01.bj,\n",
       " 'spine00.bj': Host: spine00.bj,\n",
       " 'spine01.bj': Host: spine01.bj,\n",
       " 'leaf00.bj': Host: leaf00.bj,\n",
       " 'leaf01.bj': Host: leaf01.bj,\n",
       " 'host01.gz': Host: host01.gz,\n",
       " 'spine01.gz': Host: spine01.gz,\n",
       " 'leaf01.gz': Host: leaf01.gz,\n",
       " 'host00': Host: host00,\n",
       " 'host01': Host: host01}"
      ]
     },
     "execution_count": 6,
     "metadata": {},
     "output_type": "execute_result"
    }
   ],
   "source": [
    "nr.inventory.hosts"
   ]
  },
  {
   "cell_type": "markdown",
   "id": "d95561a5-05be-410f-9f13-d4c705926cb1",
   "metadata": {},
   "source": [
    "查看加载的配置文件中包含哪些组："
   ]
  },
  {
   "cell_type": "code",
   "execution_count": 7,
   "id": "4486dc59-6684-4733-9e51-cb62089c4ed7",
   "metadata": {},
   "outputs": [
    {
     "data": {
      "text/plain": [
       "{'global': Group: global,\n",
       " 'north': Group: north,\n",
       " 'bj': Group: bj,\n",
       " 'gz': Group: gz}"
      ]
     },
     "execution_count": 7,
     "metadata": {},
     "output_type": "execute_result"
    }
   ],
   "source": [
    "nr.inventory.groups"
   ]
  },
  {
   "cell_type": "markdown",
   "id": "1ec711af-866e-4130-a447-0ed9f528a873",
   "metadata": {},
   "source": [
    "主机和组都是类字典（dict-like）形式的对象，可以通过 `[$values]` 来访问它们的属性，以主机 `host01.bj` 为例，来查看一下这个主包含哪些属性："
   ]
  },
  {
   "cell_type": "code",
   "execution_count": 8,
   "id": "f79be93e-2cf1-4772-9889-2ecd8f0c552f",
   "metadata": {},
   "outputs": [
    {
     "data": {
      "text/plain": [
       "dict_keys(['site', 'role', 'type', 'nested_data', 'asn', 'domain'])"
      ]
     },
     "execution_count": 8,
     "metadata": {},
     "output_type": "execute_result"
    }
   ],
   "source": [
    "host = nr.inventory.hosts[\"host01.bj\"]\n",
    "host.keys()"
   ]
  },
  {
   "cell_type": "markdown",
   "id": "ba8b7d4d-9447-4d71-b547-3b1515222535",
   "metadata": {},
   "source": [
    "查看这个主机位于哪个站点："
   ]
  },
  {
   "cell_type": "code",
   "execution_count": 9,
   "id": "a3a6b801-9ff9-44bc-8a88-714c120cff1c",
   "metadata": {},
   "outputs": [
    {
     "data": {
      "text/plain": [
       "'bj'"
      ]
     },
     "execution_count": 9,
     "metadata": {},
     "output_type": "execute_result"
    }
   ],
   "source": [
    "host[\"site\"]"
   ]
  },
  {
   "cell_type": "markdown",
   "id": "c465eabe-f67c-4e0d-b079-bdad7ae258cf",
   "metadata": {},
   "source": [
    "### 继承模型"
   ]
  },
  {
   "cell_type": "markdown",
   "id": "359dd4cc-a23d-4ffd-8bcf-b123610d6552",
   "metadata": {},
   "source": [
    "Nornir 中，hosts、groups、defaults 数据之间有继承关系，下面来看一下继承是如何工作的。"
   ]
  },
  {
   "cell_type": "code",
   "execution_count": 10,
   "id": "928259fc-6a2f-4bb6-a471-9c23114a00ea",
   "metadata": {},
   "outputs": [],
   "source": [
    "# %load files/inventory/groups.yaml\n",
    "---\n",
    "global:\n",
    "    data:\n",
    "        domain: global.local\n",
    "        asn: 1\n",
    "\n",
    "north:\n",
    "    data:\n",
    "        asn: 65100\n",
    "\n",
    "bj:\n",
    "    groups:\n",
    "        - north\n",
    "        - global\n",
    "\n",
    "gz:\n",
    "    data:\n",
    "        asn: 65000\n",
    "        vlans:\n",
    "          100: wired\n",
    "          200: wireless"
   ]
  },
  {
   "cell_type": "markdown",
   "id": "c4f802f1-6ff9-4254-88b6-07d0737b342a",
   "metadata": {},
   "source": [
    "在 `hosts.yaml` 中，可以看到 `host01.bj` 属于 `bj` 组，`bj` 组又属于 `north` 和 `global` 组；主机 `host01.gz` 属于 `gz` 组。\n",
    "\n",
    "在这里，nornir 的数据解析方式是：递归遍历所属的父组，并查看任意父组中是否包含相应的数据。"
   ]
  },
  {
   "cell_type": "code",
   "execution_count": 11,
   "id": "c5151c5a-daaf-45d8-8212-0652a5c8e506",
   "metadata": {},
   "outputs": [
    {
     "data": {
      "text/plain": [
       "'global.local'"
      ]
     },
     "execution_count": 11,
     "metadata": {},
     "output_type": "execute_result"
    }
   ],
   "source": [
    "host01_bj = nr.inventory.hosts[\"host01.bj\"]\n",
    "host01_bj[\"domain\"]    # 继承自 `global` 组"
   ]
  },
  {
   "cell_type": "code",
   "execution_count": 12,
   "id": "b04cd998-72e9-4e38-99ea-4602973b464d",
   "metadata": {},
   "outputs": [
    {
     "data": {
      "text/plain": [
       "65100"
      ]
     },
     "execution_count": 12,
     "metadata": {},
     "output_type": "execute_result"
    }
   ],
   "source": [
    "host01_bj[\"asn\"]   # 继承自 `north` 组"
   ]
  },
  {
   "cell_type": "markdown",
   "id": "147c91d6-4457-4506-8978-9d0e41487836",
   "metadata": {},
   "source": [
    "如果主机有数据，那么优先使用主机具有的数据，而不是从父组继承："
   ]
  },
  {
   "cell_type": "code",
   "execution_count": 13,
   "id": "a4609e6f-d898-4807-9a3a-04c17e28d1fc",
   "metadata": {},
   "outputs": [
    {
     "data": {
      "text/plain": [
       "65101"
      ]
     },
     "execution_count": 13,
     "metadata": {},
     "output_type": "execute_result"
    }
   ],
   "source": [
    "leaf01_bj = nr.inventory.hosts[\"leaf01.bj\"]\n",
    "leaf01_bj[\"asn\"]  # 主机的 asn 为 65101，父组 `bj` 的 asn 为 65100"
   ]
  },
  {
   "cell_type": "markdown",
   "id": "bef53c5c-e16a-41b7-be43-033c70af06b7",
   "metadata": {},
   "source": [
    "如果主机、父组都没有数据，那么会从 `defaults` 中继承："
   ]
  },
  {
   "cell_type": "code",
   "execution_count": 14,
   "id": "e943aa5e-f3b4-4180-9565-962b5139b363",
   "metadata": {},
   "outputs": [
    {
     "data": {
      "text/plain": [
       "'netdevops.local'"
      ]
     },
     "execution_count": 14,
     "metadata": {},
     "output_type": "execute_result"
    }
   ],
   "source": [
    "host01_gz = nr.inventory.hosts[\"host01.gz\"]\n",
    "host01_gz[\"domain\"]    # 从 `defaults` 中继承数据"
   ]
  },
  {
   "cell_type": "markdown",
   "id": "a26b9d9f-ce68-434f-b84d-d1d99fd0d402",
   "metadata": {},
   "source": [
    "如果 nornir 遍历了所有的父组，而且 `defaults` 中也没有数据，则会返回 `KeyError`:"
   ]
  },
  {
   "cell_type": "code",
   "execution_count": 15,
   "id": "7c109e8e-e08f-4c7e-8ad8-19f5c3bed521",
   "metadata": {},
   "outputs": [
    {
     "name": "stdout",
     "output_type": "stream",
     "text": [
      "无法找到数据:'non_existent'\n"
     ]
    }
   ],
   "source": [
    "try:\n",
    "    host01_gz[\"non_existent\"]\n",
    "except KeyError as e:\n",
    "    print(f\"无法找到数据:{e}\")"
   ]
  },
  {
   "cell_type": "markdown",
   "id": "e11cbce0-2a14-4209-850f-5660bb44e494",
   "metadata": {},
   "source": [
    "如果不想遍历父组的话，可以直接使用主机的 `data` 属性来访问。例如从上面的示例中 `host01_bj` 的 asn 是继承自父组 `north`，直接通过 `data` 来访问这个属性的话，不会遍历父组，而是返回 `KeyError` 的错误。"
   ]
  },
  {
   "cell_type": "markdown",
   "id": "1563d565-a11f-45bc-b7a1-c6d67b62fb2e",
   "metadata": {},
   "source": [
    "**父组之间数据的优先级关系**\n",
    "\n",
    "Nornir 通过遍历所有父组来查找数据，那么如果多个父组里面有相同的数据，会如何取值？通过一个不恰当的例子来看一下，`host00` 和 `host01` 都属于 `bj` 和 `gz` 组，但是配置文件中的顺序有所差异："
   ]
  },
  {
   "cell_type": "code",
   "execution_count": 16,
   "id": "7d903163-8f63-4d80-8957-51e0f810233d",
   "metadata": {},
   "outputs": [
    {
     "name": "stdout",
     "output_type": "stream",
     "text": [
      "[Group: gz, Group: bj]\n"
     ]
    },
    {
     "data": {
      "text/plain": [
       "65000"
      ]
     },
     "execution_count": 16,
     "metadata": {},
     "output_type": "execute_result"
    }
   ],
   "source": [
    "host00 = nr.inventory.hosts[\"host00\"]\n",
    "print(host00.groups)    # `gz` 的 asn 为 65000\n",
    "host00[\"asn\"]"
   ]
  },
  {
   "cell_type": "code",
   "execution_count": 17,
   "id": "74eeea0f-c14f-437d-a1b6-4eb61b1dca79",
   "metadata": {},
   "outputs": [
    {
     "name": "stdout",
     "output_type": "stream",
     "text": [
      "[Group: bj, Group: gz]\n"
     ]
    },
    {
     "data": {
      "text/plain": [
       "65100"
      ]
     },
     "execution_count": 17,
     "metadata": {},
     "output_type": "execute_result"
    }
   ],
   "source": [
    "host01 = nr.inventory.hosts[\"host01\"]\n",
    "print(host01.groups)   # `bj` 的 asn 为 65100，继承自 `north`\n",
    "host01[\"asn\"]"
   ]
  },
  {
   "cell_type": "markdown",
   "id": "41500850-1c72-45b7-ab45-9f7ab6864cd4",
   "metadata": {},
   "source": [
    "可以看到如果主机属于多个组，数据解析是按照列表的先后顺序进行迭代，源码实现中是对数据的 `key` 做了判断，如果遍历已经找到了对应的 `key`，之后不会再更新数据。"
   ]
  },
  {
   "cell_type": "markdown",
   "id": "73046bd0-d0e0-4f2d-95f3-5e2cbcd7b92b",
   "metadata": {},
   "source": [
    "### 主机清单的过滤方法"
   ]
  },
  {
   "cell_type": "markdown",
   "id": "4f0d38b4-7c4a-48e4-a33d-5bec72129c08",
   "metadata": {},
   "source": [
    "到目前已经看到 `nr.inventory.hosts` 和 `nr.inventory.groups` 是类字典（dict-like）的对象，可以使用它们来遍历所有主机和组或直接访问任何特定的主机和组。现在来看看如何进行一些更高级的过滤：根据主机的属性对来对一组主机进行操作。\n",
    "\n",
    "过滤主机最简单的方法是通过 `filter` 传入键值对（<key,value>）参数，例如筛选站点是 `bj` 的机器："
   ]
  },
  {
   "cell_type": "code",
   "execution_count": 18,
   "id": "5a8de479-0e67-443e-9014-88a1123c50a0",
   "metadata": {},
   "outputs": [
    {
     "data": {
      "text/plain": [
       "{'host01.bj': Host: host01.bj,\n",
       " 'spine00.bj': Host: spine00.bj,\n",
       " 'spine01.bj': Host: spine01.bj,\n",
       " 'leaf00.bj': Host: leaf00.bj,\n",
       " 'leaf01.bj': Host: leaf01.bj}"
      ]
     },
     "execution_count": 18,
     "metadata": {},
     "output_type": "execute_result"
    }
   ],
   "source": [
    "nr.filter(site='bj').inventory.hosts"
   ]
  },
  {
   "cell_type": "markdown",
   "id": "e6e69cd4-f328-4578-a12f-0c72ccf1b864",
   "metadata": {},
   "source": [
    "也可以使用多个键值对来进行过滤，例如筛选站点是 `bj` 而且角色为 `spine` 的设备："
   ]
  },
  {
   "cell_type": "code",
   "execution_count": 19,
   "id": "3b530a2a-6cbe-40f4-9976-9fb433d6fab9",
   "metadata": {
    "tags": []
   },
   "outputs": [
    {
     "data": {
      "text/plain": [
       "{'spine00.bj': Host: spine00.bj, 'spine01.bj': Host: spine01.bj}"
      ]
     },
     "execution_count": 19,
     "metadata": {},
     "output_type": "execute_result"
    }
   ],
   "source": [
    "nr.filter(site='bj', role='spine').inventory.hosts"
   ]
  },
  {
   "cell_type": "markdown",
   "id": "b64c3ead-f37d-4cc4-aba0-562c73870d82",
   "metadata": {},
   "source": [
    "`filter` 方法也可以进行叠加使用："
   ]
  },
  {
   "cell_type": "code",
   "execution_count": 20,
   "id": "d31bf05f-528b-41d7-a152-95d856cf94cc",
   "metadata": {},
   "outputs": [
    {
     "data": {
      "text/plain": [
       "{'spine00.bj': Host: spine00.bj, 'spine01.bj': Host: spine01.bj}"
      ]
     },
     "execution_count": 20,
     "metadata": {},
     "output_type": "execute_result"
    }
   ],
   "source": [
    "nr.filter(site='bj').filter(role='spine').inventory.hosts"
   ]
  },
  {
   "cell_type": "markdown",
   "id": "84b719d9-a470-467a-bbec-2f5277adae0b",
   "metadata": {},
   "source": [
    "或者赋值给对象，进行再次过滤："
   ]
  },
  {
   "cell_type": "code",
   "execution_count": 21,
   "id": "d867e9b2-ba2e-4166-a8a4-3a89f169efc2",
   "metadata": {},
   "outputs": [],
   "source": [
    "bj = nr.filter(site='bj')"
   ]
  },
  {
   "cell_type": "code",
   "execution_count": 22,
   "id": "b166c6de-371c-469c-87fb-994799b01a87",
   "metadata": {},
   "outputs": [
    {
     "data": {
      "text/plain": [
       "{'spine00.bj': Host: spine00.bj, 'spine01.bj': Host: spine01.bj}"
      ]
     },
     "execution_count": 22,
     "metadata": {},
     "output_type": "execute_result"
    }
   ],
   "source": [
    "bj.filter(role='spine').inventory.hosts"
   ]
  },
  {
   "cell_type": "code",
   "execution_count": 23,
   "id": "aa77d62d-611e-47a2-9109-ff9f5e24a8a0",
   "metadata": {},
   "outputs": [
    {
     "data": {
      "text/plain": [
       "{'leaf00.bj': Host: leaf00.bj, 'leaf01.bj': Host: leaf01.bj}"
      ]
     },
     "execution_count": 23,
     "metadata": {},
     "output_type": "execute_result"
    }
   ],
   "source": [
    "bj.filter(role='leaf').inventory.hosts"
   ]
  },
  {
   "cell_type": "markdown",
   "id": "ff1e8b55-f487-4c90-8f17-6a0d4b070fc1",
   "metadata": {},
   "source": [
    "还可以根据组进行过滤，例如查找所有属于 `bj` 组的主机："
   ]
  },
  {
   "cell_type": "code",
   "execution_count": 24,
   "id": "aba5c6e3-ce1a-479a-859b-2ed36422a054",
   "metadata": {},
   "outputs": [
    {
     "data": {
      "text/plain": [
       "{Host: host00,\n",
       " Host: host01,\n",
       " Host: host01.bj,\n",
       " Host: leaf00.bj,\n",
       " Host: leaf01.bj,\n",
       " Host: spine00.bj,\n",
       " Host: spine01.bj}"
      ]
     },
     "execution_count": 24,
     "metadata": {},
     "output_type": "execute_result"
    }
   ],
   "source": [
    "nr.inventory.children_of_group('bj')"
   ]
  },
  {
   "cell_type": "markdown",
   "id": "71dc18c1-5d6e-4b8e-84b0-588b1e7e24f8",
   "metadata": {},
   "source": [
    "### 高级过滤方法"
   ]
  },
  {
   "cell_type": "markdown",
   "id": "a4dd56dc-e615-4c16-97c7-ddac126a41c1",
   "metadata": {},
   "source": [
    "有时候使用键值对无法满足过滤需求，还可以使用更高级的过滤方式：\n",
    "\n",
    "1. 过滤函数（filter function）\n",
    "2. 过滤对象（filter object）\n",
    "\n",
    "#### 过滤函数（filter functions）\n",
    "\n",
    "Filter 方法里面的 `filter_func` 参数可以通过传入自定义代码来进行主机过滤。过滤函数的格式应该是 `my_func(host)`，其中参数是一个主机对象（Host）并且返回值必须是 `True` 或 `False` 来确定过滤结果是否是需要的主机。"
   ]
  },
  {
   "cell_type": "code",
   "execution_count": 25,
   "id": "8c8c3b84-90e3-411e-95cd-c412646a4a47",
   "metadata": {},
   "outputs": [
    {
     "data": {
      "text/plain": [
       "{'spine00.bj': Host: spine00.bj,\n",
       " 'spine01.bj': Host: spine01.bj,\n",
       " 'spine01.gz': Host: spine01.gz}"
      ]
     },
     "execution_count": 25,
     "metadata": {},
     "output_type": "execute_result"
    }
   ],
   "source": [
    "# 过滤名字主机名长度为 10 的主机\n",
    "def has_long_name(host):\n",
    "    return len(host.name) == 10\n",
    "\n",
    "nr.filter(filter_func=has_long_name).inventory.hosts"
   ]
  },
  {
   "cell_type": "code",
   "execution_count": 26,
   "id": "c86b71b7-61a7-432b-a593-212eea1bb5a2",
   "metadata": {},
   "outputs": [
    {
     "data": {
      "text/plain": [
       "{'host00': Host: host00, 'host01': Host: host01}"
      ]
     },
     "execution_count": 26,
     "metadata": {},
     "output_type": "execute_result"
    }
   ],
   "source": [
    "# 或者使用 lambda 函数\n",
    "nr.filter(filter_func=lambda h: len(h.name)==6).inventory.hosts"
   ]
  },
  {
   "cell_type": "markdown",
   "id": "c31924f0-739a-42fd-95a2-d0d18c810234",
   "metadata": {},
   "source": [
    "#### 过滤对象（filter object）\n",
    "\n",
    "使用过滤对象 `F` 来叠加创建复杂查询对象。\n",
    "\n",
    "`F` 对象作为 `filter` 方法的参数，也接受键值对传参，可以使用叠加的双下划线来访问到任意数据（类似于字典的 `[]` 取值），也可以使用 `__contains` 来检查一个元素中是否包含指定字符。同时还支持将多个 `F` 对象进行位运算（`&`、`|`、`~`）来返回查询对象。\n",
    "\n",
    "> 注：`__contains__` 一般情况下是 Python 容器对象的方法，在 nornir 中，groups 是一个列表，所以对组进行过滤时，应该使用 `__contains`。\n",
    "\n",
    "来看几个例子："
   ]
  },
  {
   "cell_type": "code",
   "execution_count": 27,
   "id": "767b54fa-16b6-4012-aa1c-411f286c907b",
   "metadata": {},
   "outputs": [],
   "source": [
    "# 首先引入 F 对象\n",
    "from nornir.core.filter import F"
   ]
  },
  {
   "cell_type": "code",
   "execution_count": 28,
   "id": "f097a6b2-5105-4eeb-a21d-21084ac586a2",
   "metadata": {},
   "outputs": [
    {
     "data": {
      "text/plain": [
       "{'host01.bj': Host: host01.bj,\n",
       " 'spine00.bj': Host: spine00.bj,\n",
       " 'spine01.bj': Host: spine01.bj,\n",
       " 'leaf00.bj': Host: leaf00.bj,\n",
       " 'leaf01.bj': Host: leaf01.bj,\n",
       " 'host00': Host: host00,\n",
       " 'host01': Host: host01}"
      ]
     },
     "execution_count": 28,
     "metadata": {},
     "output_type": "execute_result"
    }
   ],
   "source": [
    "# 查看属于 `bj` 组的设备\n",
    "bj = nr.filter(F(groups__contains='bj'))\n",
    "bj.inventory.hosts"
   ]
  },
  {
   "cell_type": "code",
   "execution_count": 29,
   "id": "ff0ba431-b969-40cd-a084-fbae1ae7134e",
   "metadata": {},
   "outputs": [
    {
     "data": {
      "text/plain": [
       "{'host01.bj': Host: host01.bj}"
      ]
     },
     "execution_count": 29,
     "metadata": {},
     "output_type": "execute_result"
    }
   ],
   "source": [
    "# 查看 `bj` 组中，系统是 `linux` 的设备\n",
    "bj_linux = nr.filter(F(groups__contains='bj') & F(platform='linux'))\n",
    "bj_linux.inventory.hosts"
   ]
  },
  {
   "cell_type": "code",
   "execution_count": 30,
   "id": "972e3a1e-d093-4fd4-9cda-9829a2715786",
   "metadata": {},
   "outputs": [
    {
     "data": {
      "text/plain": [
       "{'spine00.bj': Host: spine00.bj,\n",
       " 'spine01.gz': Host: spine01.gz,\n",
       " 'leaf01.gz': Host: leaf01.gz}"
      ]
     },
     "execution_count": 30,
     "metadata": {},
     "output_type": "execute_result"
    }
   ],
   "source": [
    "# 查看系统是 `ios` 或者 `eos` 的设备\n",
    "ios_or_eos = nr.filter(F(platform='ios') | F(platform='eos'))\n",
    "ios_or_eos.inventory.hosts"
   ]
  },
  {
   "cell_type": "code",
   "execution_count": 31,
   "id": "64644acd-7b71-4141-aba4-de15fceba501",
   "metadata": {},
   "outputs": [],
   "source": [
    "# 查看 `gz` 组中，角色不是 `spine` 的设备\n",
    "gz_not_spine = nr.filter(F(groups__contains='gz') & ~F(role='spine'))"
   ]
  },
  {
   "cell_type": "code",
   "execution_count": 32,
   "id": "15e7066b-39f9-42ca-84b3-4d05c4a668cc",
   "metadata": {},
   "outputs": [
    {
     "data": {
      "text/plain": [
       "{'host01.gz': Host: host01.gz,\n",
       " 'leaf01.gz': Host: leaf01.gz,\n",
       " 'host00': Host: host00,\n",
       " 'host01': Host: host01}"
      ]
     },
     "execution_count": 32,
     "metadata": {},
     "output_type": "execute_result"
    }
   ],
   "source": [
    "gz_not_spine.inventory.hosts"
   ]
  },
  {
   "cell_type": "code",
   "execution_count": 33,
   "id": "4b8a8148-169f-4c9e-bfdf-5e02d42501e2",
   "metadata": {},
   "outputs": [
    {
     "data": {
      "text/plain": [
       "{'host01.bj': Host: host01.bj}"
      ]
     },
     "execution_count": 33,
     "metadata": {},
     "output_type": "execute_result"
    }
   ],
   "source": [
    "# 使用 `__` 来查看用户自定义的数据，并检查 dicts/lists/strings 是否包含元素\n",
    "nested_dict = nr.filter(F(nested_data__a_dict__a=1))\n",
    "nested_dict.inventory.hosts"
   ]
  },
  {
   "cell_type": "code",
   "execution_count": 34,
   "id": "bd03b28b-2643-4c2a-9419-c04e9ffa976d",
   "metadata": {},
   "outputs": [
    {
     "data": {
      "text/plain": [
       "{'host01.bj': Host: host01.bj}"
      ]
     },
     "execution_count": 34,
     "metadata": {},
     "output_type": "execute_result"
    }
   ],
   "source": [
    "nested_list = nr.filter(F(nested_data__a_list__contains=1))\n",
    "nested_list.inventory.hosts"
   ]
  },
  {
   "cell_type": "code",
   "execution_count": 35,
   "id": "616601c5-04be-4cde-81ac-676f6bbba50c",
   "metadata": {},
   "outputs": [
    {
     "data": {
      "text/plain": [
       "{'host01.bj': Host: host01.bj}"
      ]
     },
     "execution_count": 35,
     "metadata": {},
     "output_type": "execute_result"
    }
   ],
   "source": [
    "nested_string = nr.filter(F(nested_data__a_string__contains='web'))\n",
    "nested_string.inventory.hosts"
   ]
  },
  {
   "cell_type": "code",
   "execution_count": 36,
   "id": "5d58f181-cab5-481e-ac9f-1a1e0acae8c1",
   "metadata": {},
   "outputs": [
    {
     "data": {
      "text/plain": [
       "{'spine00.bj': Host: spine00.bj,\n",
       " 'spine01.bj': Host: spine01.bj,\n",
       " 'spine01.gz': Host: spine01.gz,\n",
       " 'leaf01.gz': Host: leaf01.gz}"
      ]
     },
     "execution_count": 36,
     "metadata": {},
     "output_type": "execute_result"
    }
   ],
   "source": [
    "# 也可以对键值对的数据进行 `__contains` 查找\n",
    "host_os = nr.filter(F(platform__contains='os'))\n",
    "host_os.inventory.hosts"
   ]
  },
  {
   "cell_type": "markdown",
   "id": "12870cae-d0ba-416b-8da2-608acf61f688",
   "metadata": {},
   "source": [
    "---\n",
    "[上一节](04.initializing_nornir.ipynb) | [下一节](06.tasks.ipynb) | [返回首页](00.index.ipynb) "
   ]
  }
 ],
 "metadata": {
  "kernelspec": {
   "display_name": "Python 3 (ipykernel)",
   "language": "python",
   "name": "python3"
  },
  "language_info": {
   "codemirror_mode": {
    "name": "ipython",
    "version": 3
   },
   "file_extension": ".py",
   "mimetype": "text/x-python",
   "name": "python",
   "nbconvert_exporter": "python",
   "pygments_lexer": "ipython3",
   "version": "3.8.10"
  }
 },
 "nbformat": 4,
 "nbformat_minor": 5
}
