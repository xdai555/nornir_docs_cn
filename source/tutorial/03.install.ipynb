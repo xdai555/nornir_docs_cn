{
 "cells": [
  {
   "cell_type": "markdown",
   "id": "b3a8158e-8f4e-4a2c-b3e4-7bb96fca3f17",
   "metadata": {},
   "source": [
    "## 安装指导\n",
    "\n",
    "### 安装 Nornir\n",
    "\n",
    "在安装 Nornir 之前，建议你创建自己的 Python 虚拟环境（Virtualenv）。这样可以保证你的操作不会影响到系统中 Python 的环境。\n",
    "\n",
    "> 本教程不提供 Python 虚拟环境的安装指导；也不提供 pip 相关的安装方法，假设你已经在系统中装好了这些。\n",
    "\n",
    "Nornir 发布在 Pypi 上，你可以像安装其他 Python 包一样使用 pip 工具来安装 Nornir。\n",
    "\n",
    "你可以直接运行下面的代码行来确定当前的 pip 环境。"
   ]
  },
  {
   "cell_type": "code",
   "execution_count": 1,
   "id": "2aecfc18-2c06-4b56-93d9-ca5192afe5bf",
   "metadata": {},
   "outputs": [
    {
     "name": "stdout",
     "output_type": "stream",
     "text": [
      "pip 21.2.1 from C:\\Users\\xdai\\AppData\\Roaming\\Python\\Python38\\site-packages\\pip (python 3.8)\n",
      "\n"
     ]
    }
   ],
   "source": [
    "!pip3 --version"
   ]
  },
  {
   "cell_type": "markdown",
   "id": "3c70b124-96b0-48cc-8862-58290ea86ec0",
   "metadata": {},
   "source": [
    "如果你已经有了 pip 工具，安装 Nornir 非常简单。运行以下代码来进行安装。\n",
    "\n",
    "```\n",
    "$pip install nornir\n",
    "Collecting nornir\n",
    "  Downloading nornir-3.0.0-py3-none-any.whl (28 kB)\n",
    "Requirement already satisfied: typing_extensions<4.0,>=3.7 in /home/dbarroso/.virtualenvs/tmp-nornir/lib/python3.8/site-packages (from nornir) (3.7.4.2)\n",
    "Requirement already satisfied: mypy_extensions<0.5.0,>=0.4.1 in /home/dbarroso/.virtualenvs/tmp-nornir/lib/python3.8/site-packages (from nornir) (0.4.3)\n",
    "Collecting ruamel.yaml<0.17,>=0.16\n",
    "  Using cached ruamel.yaml-0.16.10-py2.py3-none-any.whl (111 kB)\n",
    "Collecting ruamel.yaml.clib>=0.1.2; platform_python_implementation == \"CPython\" and python_version < \"3.9\"\n",
    "  Using cached ruamel.yaml.clib-0.2.0-cp38-cp38-manylinux1_x86_64.whl (578 kB)\n",
    "Installing collected packages: colorama, ruamel.yaml.clib, ruamel.yaml, nornir\n",
    "Successfully installed nornir-3.0.0 ruamel.yaml-0.16.10 ruamel.yaml.clib-0.2.0\n",
    "```\n",
    "\n",
    "运行完命令后，如果最后一行是 `Successfully installed`，说明你已经成功安装了 Nornir。\n",
    "\n",
    "现在可以运行以下命令来验证 Nornir 使用成功安装。"
   ]
  },
  {
   "cell_type": "code",
   "execution_count": 2,
   "id": "8e09117b-3c9b-443e-8386-587b7bff8492",
   "metadata": {},
   "outputs": [],
   "source": [
    "from nornir import InitNornir"
   ]
  },
  {
   "cell_type": "markdown",
   "id": "446c17d8-3acc-4b2a-a9a9-5f9fdc82b61a",
   "metadata": {},
   "source": [
    "如果你能成功运行这个引入命令，证明你已经成功安装了 Nornir。"
   ]
  },
  {
   "cell_type": "markdown",
   "id": "7a1d3b4b-d419-455f-b566-0832dea8e295",
   "metadata": {},
   "source": [
    "### 插件\n",
    "\n",
    "Nornir 是一个模块化程度很高的框架，除了核心功能外，大部分功能都可以通过插件来进行扩展。关于插件的相关内容，可以查看对应的章节。"
   ]
  },
  {
   "cell_type": "markdown",
   "id": "a7e662b2-c3e6-4857-b55b-70ab71b82827",
   "metadata": {},
   "source": [
    "---\n",
    "[上一节](02.python.ipynb) | [下一节](04.initializing_nornir.ipynb) | [返回首页](00.index.ipynb) "
   ]
  }
 ],
 "metadata": {
  "kernelspec": {
   "display_name": "Python 3 (ipykernel)",
   "language": "python",
   "name": "python3"
  },
  "language_info": {
   "codemirror_mode": {
    "name": "ipython",
    "version": 3
   },
   "file_extension": ".py",
   "mimetype": "text/x-python",
   "name": "python",
   "nbconvert_exporter": "python",
   "pygments_lexer": "ipython3",
   "version": "3.8.10"
  }
 },
 "nbformat": 4,
 "nbformat_minor": 5
}
