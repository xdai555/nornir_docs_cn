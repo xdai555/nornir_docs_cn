{
 "cells": [
  {
   "cell_type": "markdown",
   "id": "072c8433-fd46-4ee1-8a49-29847507dd9f",
   "metadata": {},
   "source": [
    "## 任务\n",
    "\n",
    "之前的内容中已经了解了如何初始化 nornir 对象并查看其主机清单和主机组信息，这节内容说明了如何在主机或主机组中执行任务。\n",
    "\n",
    "任务是针对单台主机实现某种功能的一段可以重复使用的代码，例如收集信息等。\n",
    "\n",
    "在 nornir 中， **任务（Tasks）** 是一个将 `Task` 对象作为第一个参数并且返回值是 `Result` 对象的函数。\n",
    "\n",
    "在旧版本中，nornir 提供了一些内置的任务可以直接使用。从 3.0 版本开始，为了保持框架的纯粹性，剔除了除核心功能外的插件代码，现在需要自己来编写 Task 或者使用其他人贡献出来的插件。\n",
    "\n",
    "可以在 [nornir.tech](https://nornir.tech/nornir/plugins/) 中获取当前已经公开发布的插件。。\n",
    "\n",
    "现在来看一个 `Task` 的示例："
   ]
  },
  {
   "cell_type": "code",
   "execution_count": 1,
   "id": "544b4be3-4e71-4a0f-94ba-bd1619b83935",
   "metadata": {},
   "outputs": [],
   "source": [
    "# 初始化一个 nornir 对象\n",
    "# 导入 print_result 模块来处理 Result 对象\n",
    "from nornir import InitNornir\n",
    "from nornir_utils.plugins.functions import print_result\n",
    "\n",
    "nr = InitNornir(config_file=\"files/config.yaml\")\n",
    "# 为了保持内容简洁，只针对一些主机进行操作\n",
    "nr = nr.filter(site='bj',role='spine')"
   ]
  },
  {
   "cell_type": "code",
   "execution_count": 2,
   "id": "28afe024-ce1b-40a8-8e9f-832416010ffd",
   "metadata": {
    "tags": []
   },
   "outputs": [],
   "source": [
    "# 首先导入 Task 、Result 模块\n",
    "from nornir.core.task import Task, Result\n",
    "\n",
    "# 定义一个 task，作用是让主机输出 hello world。\n",
    "def hello_world(task: Task) -> Result:\n",
    "    return Result(\n",
    "        host=task.host,\n",
    "        result=f\"{task.host.name} says hello world!\"\n",
    "    )"
   ]
  },
  {
   "cell_type": "markdown",
   "id": "6b859d12-e49e-47d0-bb95-616fab036cf4",
   "metadata": {},
   "source": [
    "要运行这个 task，需要使用 nornir 对象的 `run` 方法，将 task 函数作为参数传递给 `run`，要获取到任务执行的结果，需要使用 `print_result` 方法打印出来："
   ]
  },
  {
   "cell_type": "code",
   "execution_count": 3,
   "id": "084800b8-148b-4fa7-9bb9-4f76ecd90435",
   "metadata": {},
   "outputs": [
    {
     "name": "stdout",
     "output_type": "stream",
     "text": [
      "\u001b[1m\u001b[36mhello_world*********************************************************************\u001b[0m\n",
      "\u001b[0m\u001b[1m\u001b[34m* spine00.bj ** changed : False ************************************************\u001b[0m\n",
      "\u001b[0m\u001b[1m\u001b[32mvvvv hello_world ** changed : False vvvvvvvvvvvvvvvvvvvvvvvvvvvvvvvvvvvvvvvvvvvv INFO\u001b[0m\n",
      "\u001b[0mspine00.bj says hello world!\u001b[0m\n",
      "\u001b[0m\u001b[1m\u001b[32m^^^^ END hello_world ^^^^^^^^^^^^^^^^^^^^^^^^^^^^^^^^^^^^^^^^^^^^^^^^^^^^^^^^^^^\u001b[0m\n",
      "\u001b[0m\u001b[1m\u001b[34m* spine01.bj ** changed : False ************************************************\u001b[0m\n",
      "\u001b[0m\u001b[1m\u001b[32mvvvv hello_world ** changed : False vvvvvvvvvvvvvvvvvvvvvvvvvvvvvvvvvvvvvvvvvvvv INFO\u001b[0m\n",
      "\u001b[0mspine01.bj says hello world!\u001b[0m\n",
      "\u001b[0m\u001b[1m\u001b[32m^^^^ END hello_world ^^^^^^^^^^^^^^^^^^^^^^^^^^^^^^^^^^^^^^^^^^^^^^^^^^^^^^^^^^^\u001b[0m\n",
      "\u001b[0m"
     ]
    }
   ],
   "source": [
    "result = nr.run(task=hello_world)\n",
    "print_result(result)"
   ]
  },
  {
   "cell_type": "markdown",
   "id": "151b5698-bc85-43b8-b91b-019ae2639447",
   "metadata": {},
   "source": [
    "定义 Task 函数时，支持 `**kwargs` 来传参，这样可以扩展 task 的功能性，例如："
   ]
  },
  {
   "cell_type": "code",
   "execution_count": 4,
   "id": "2055d39a-bd48-49ef-9031-b3174d8b422b",
   "metadata": {},
   "outputs": [],
   "source": [
    "def say(task: Task, text: str) -> Result:\n",
    "    return Result(\n",
    "        host=task.host,\n",
    "        result=f\"{task.host.name} says {text}\"\n",
    "    )"
   ]
  },
  {
   "cell_type": "markdown",
   "id": "39eb1f95-fd42-481d-b720-2219e86bf74d",
   "metadata": {},
   "source": [
    "然后可以像之前一样使用 nornir 对象的 `run` 方法来运行 task，这次需要指定额外的参数 `text`："
   ]
  },
  {
   "cell_type": "code",
   "execution_count": 5,
   "id": "9a571a96-cec4-4302-aead-b3377a38cd50",
   "metadata": {},
   "outputs": [
    {
     "name": "stdout",
     "output_type": "stream",
     "text": [
      "\u001b[1m\u001b[36m再见~*****************************************************************************\u001b[0m\n",
      "\u001b[0m\u001b[1m\u001b[34m* spine00.bj ** changed : False ************************************************\u001b[0m\n",
      "\u001b[0m\u001b[1m\u001b[32mvvvv 再见~ ** changed : False vvvvvvvvvvvvvvvvvvvvvvvvvvvvvvvvvvvvvvvvvvvvvvvvvvvv INFO\u001b[0m\n",
      "\u001b[0mspine00.bj says byebye!\u001b[0m\n",
      "\u001b[0m\u001b[1m\u001b[32m^^^^ END 再见~ ^^^^^^^^^^^^^^^^^^^^^^^^^^^^^^^^^^^^^^^^^^^^^^^^^^^^^^^^^^^^^^^^^^^\u001b[0m\n",
      "\u001b[0m\u001b[1m\u001b[34m* spine01.bj ** changed : False ************************************************\u001b[0m\n",
      "\u001b[0m\u001b[1m\u001b[32mvvvv 再见~ ** changed : False vvvvvvvvvvvvvvvvvvvvvvvvvvvvvvvvvvvvvvvvvvvvvvvvvvvv INFO\u001b[0m\n",
      "\u001b[0mspine01.bj says byebye!\u001b[0m\n",
      "\u001b[0m\u001b[1m\u001b[32m^^^^ END 再见~ ^^^^^^^^^^^^^^^^^^^^^^^^^^^^^^^^^^^^^^^^^^^^^^^^^^^^^^^^^^^^^^^^^^^\u001b[0m\n",
      "\u001b[0m"
     ]
    }
   ],
   "source": [
    "result = nr.run(\n",
    "    name=\"再见~\",\n",
    "    task=say,\n",
    "    text=\"byebye!\"\n",
    ")\n",
    "print_result(result)"
   ]
  },
  {
   "cell_type": "markdown",
   "id": "360e0fa6-26a0-41de-b490-d63f5f6944fc",
   "metadata": {},
   "source": [
    "需要注意的是，在这个例子中传入了 `name` 参数来作为这个 task 的描述性名字，这个参数会在结果中显示出来。如果没有指定这个参数的话，则会使用 task 函数的名字。"
   ]
  },
  {
   "cell_type": "markdown",
   "id": "5c5fed3f-dfaf-442b-b533-93ea6d8e101c",
   "metadata": {},
   "source": [
    "### 任务组\n",
    "\n",
    "一个任务（Tasks）可以调用其他的任务，这样就可以使用多个功能来组成更复杂的功能，这称为任务组（Grouping tasks）。\n",
    "\n",
    "来定义一个新的 task："
   ]
  },
  {
   "cell_type": "code",
   "execution_count": 6,
   "id": "968d9cb6-cdd5-43b0-bab9-e29fe695b3c0",
   "metadata": {},
   "outputs": [],
   "source": [
    "def count(task: Task, number: int) -> Result:\n",
    "    return Result(\n",
    "        host=task.host,\n",
    "        result=f\"{[n for n in range(0, number)]}\" \n",
    "    )"
   ]
  },
  {
   "cell_type": "markdown",
   "id": "c4614348-ee17-4712-8967-1c1440d20cf6",
   "metadata": {},
   "source": [
    "然后将这个新的 task `count` 和之前的 `say` 结合起来，形成任务组，实现更复杂的工作流："
   ]
  },
  {
   "cell_type": "code",
   "execution_count": 7,
   "id": "4bf4c205-7dd5-4d2e-b9d7-37e7f94e1ae2",
   "metadata": {},
   "outputs": [],
   "source": [
    "def greet_and_count(task: Task, number: int) -> Result:\n",
    "    task.run(\n",
    "        name=\"你好~\",\n",
    "        task=say,\n",
    "        text=\"Hi~\",\n",
    "    )\n",
    "    \n",
    "    task.run(\n",
    "        name=\"计数\",\n",
    "        task=count,\n",
    "        number=number,\n",
    "    )\n",
    "    \n",
    "    task.run(\n",
    "        name=\"再见\",\n",
    "        task=say,\n",
    "        text=\"byebye.\"\n",
    "    )\n",
    "    \n",
    "    # 计算打招呼打了奇数次还是偶数次\n",
    "    even_or_odds = \"even\" if number % 2 == 1 else \"odd\"\n",
    "    return Result(\n",
    "        host=task.host,\n",
    "        result = f\"{task.host} counted {even_or_odds} times!\",\n",
    "    )"
   ]
  },
  {
   "cell_type": "markdown",
   "id": "0913e01c-4286-4f93-961c-c1e006f6c692",
   "metadata": {},
   "source": [
    "来简单分析一个这个 task：\n",
    "1. 首先调用了 `say` 任务并传入了文本 “Hi~”；\n",
    "2. 之后调用了 `count` 任务，它接收中在父任务 `greet_and_count` 也定义的参数 `number`，这样可以在执行父任务时动态调整这部分参数；\n",
    "3. 然后再次调用了 `say` 任务，这次传入了文本 “byebye”；\n",
    "4. 之后 `if` 来判断计数情况；\n",
    "5. 最后返回了 `Result` 对象，将需要的信息返回。\n",
    "\n",
    "现在可以像调用一个普通的 task 一样来调用新定义的任务组："
   ]
  },
  {
   "cell_type": "code",
   "execution_count": 8,
   "id": "0a4e97e2-2bb1-4572-89d0-d2556f9f4473",
   "metadata": {},
   "outputs": [
    {
     "name": "stdout",
     "output_type": "stream",
     "text": [
      "\u001b[1m\u001b[36m对打招呼次数进行计数**********************************************************************\u001b[0m\n",
      "\u001b[0m\u001b[1m\u001b[34m* spine00.bj ** changed : False ************************************************\u001b[0m\n",
      "\u001b[0m\u001b[1m\u001b[32mvvvv 对打招呼次数进行计数 ** changed : False vvvvvvvvvvvvvvvvvvvvvvvvvvvvvvvvvvvvvvvvvvvvv INFO\u001b[0m\n",
      "\u001b[0mspine00.bj counted even times!\u001b[0m\n",
      "\u001b[0m\u001b[1m\u001b[32m---- 你好~ ** changed : False ---------------------------------------------------- INFO\u001b[0m\n",
      "\u001b[0mspine00.bj says Hi~\u001b[0m\n",
      "\u001b[0m\u001b[1m\u001b[32m---- 计数 ** changed : False ----------------------------------------------------- INFO\u001b[0m\n",
      "\u001b[0m[0, 1, 2, 3, 4]\u001b[0m\n",
      "\u001b[0m\u001b[1m\u001b[32m---- 再见 ** changed : False ----------------------------------------------------- INFO\u001b[0m\n",
      "\u001b[0mspine00.bj says byebye.\u001b[0m\n",
      "\u001b[0m\u001b[1m\u001b[32m^^^^ END 对打招呼次数进行计数 ^^^^^^^^^^^^^^^^^^^^^^^^^^^^^^^^^^^^^^^^^^^^^^^^^^^^^^^^^^^^\u001b[0m\n",
      "\u001b[0m\u001b[1m\u001b[34m* spine01.bj ** changed : False ************************************************\u001b[0m\n",
      "\u001b[0m\u001b[1m\u001b[32mvvvv 对打招呼次数进行计数 ** changed : False vvvvvvvvvvvvvvvvvvvvvvvvvvvvvvvvvvvvvvvvvvvvv INFO\u001b[0m\n",
      "\u001b[0mspine01.bj counted even times!\u001b[0m\n",
      "\u001b[0m\u001b[1m\u001b[32m---- 你好~ ** changed : False ---------------------------------------------------- INFO\u001b[0m\n",
      "\u001b[0mspine01.bj says Hi~\u001b[0m\n",
      "\u001b[0m\u001b[1m\u001b[32m---- 计数 ** changed : False ----------------------------------------------------- INFO\u001b[0m\n",
      "\u001b[0m[0, 1, 2, 3, 4]\u001b[0m\n",
      "\u001b[0m\u001b[1m\u001b[32m---- 再见 ** changed : False ----------------------------------------------------- INFO\u001b[0m\n",
      "\u001b[0mspine01.bj says byebye.\u001b[0m\n",
      "\u001b[0m\u001b[1m\u001b[32m^^^^ END 对打招呼次数进行计数 ^^^^^^^^^^^^^^^^^^^^^^^^^^^^^^^^^^^^^^^^^^^^^^^^^^^^^^^^^^^^\u001b[0m\n",
      "\u001b[0m"
     ]
    }
   ],
   "source": [
    "result = nr.run(\n",
    "    name=\"对打招呼次数进行计数\",\n",
    "    task=greet_and_count,\n",
    "    number=5,\n",
    ")\n",
    "print_result(result)"
   ]
  }
 ],
 "metadata": {
  "kernelspec": {
   "display_name": "Python 3 (ipykernel)",
   "language": "python",
   "name": "python3"
  },
  "language_info": {
   "codemirror_mode": {
    "name": "ipython",
    "version": 3
   },
   "file_extension": ".py",
   "mimetype": "text/x-python",
   "name": "python",
   "nbconvert_exporter": "python",
   "pygments_lexer": "ipython3",
   "version": "3.8.10"
  }
 },
 "nbformat": 4,
 "nbformat_minor": 5
}
