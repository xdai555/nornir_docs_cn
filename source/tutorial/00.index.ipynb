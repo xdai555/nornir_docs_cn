{
 "cells": [
  {
   "cell_type": "markdown",
   "id": "19e3df17-6500-4f57-be05-bbafd67feb89",
   "metadata": {},
   "source": [
    "# Learning Nornir\n",
    "\n",
    "欢迎阅读 Nornir 入门教程。\n",
    "\n",
    "\n",
    "## 目录\n",
    "\n",
    "- [初识 Nornir](01.overview.ipynb)\n",
    "- [需要了解的 Python 知识](02.python.ipynb)\n",
    "- [安装指南](03.install.ipynb)\n",
    "- [初始化 Nornir](04.initializing_nornir.ipynb)\n",
    "- [主机清单](05.inventory.ipynb)\n",
    "- [执行任务](06.tasks.ipynb)\n",
    "- [处理任务结果](07.task_results.ipynb)\n",
    "- [处理失败任务](08.failed_tasks.ipynb)\n",
    "- [处理器](09.processors.ipynb)"
   ]
  }
 ],
 "metadata": {
  "kernelspec": {
   "display_name": "Python 3 (ipykernel)",
   "language": "python",
   "name": "python3"
  },
  "language_info": {
   "codemirror_mode": {
    "name": "ipython",
    "version": 3
   },
   "file_extension": ".py",
   "mimetype": "text/x-python",
   "name": "python",
   "nbconvert_exporter": "python",
   "pygments_lexer": "ipython3",
   "version": "3.8.10"
  }
 },
 "nbformat": 4,
 "nbformat_minor": 5
}
