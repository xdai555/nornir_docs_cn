{
 "cells": [
  {
   "cell_type": "markdown",
   "id": "eb2b090b-4824-4e99-99f0-7dbf60eb2998",
   "metadata": {},
   "source": [
    "## 需要具备的 Python 知识\n",
    "\n",
    "为了使用 Nornir，你必须具备一些 Python 知识。如果你已经是一个比较熟练的 Python 使用者，可以直接跳过本节，到下一节查看[安装指导](#安装指导)\n",
    "\n",
    "如果你从来没有使用 Python 写过代码，并且没有任何其他编程语言的经验，也不用害怕。你不必对 Python 非常精通，只需要学习下面列出的 Python 基础知识之后，再回来继续学习 Nornir！\n",
    "\n",
    "你可以参考 [Python 官方教程](https://docs.python.org/3/tutorial/) 进行学习。\n",
    "\n",
    "为了继续学习 Nornir，你需要：\n",
    "- 在你的电脑上配置 Python 环境\n",
    "- 安装 Virtualenv 和 Python 相关的包\n",
    "- 了解下面几个 Python 的基础概念\n",
    "\n",
    "  - 变量（Variables）\n",
    "  - 函数（Functions）\n",
    "  - 引入（Imports）"
   ]
  },
  {
   "cell_type": "markdown",
   "id": "2f5b6613-cfd4-4b12-a48e-531bdf0d7413",
   "metadata": {},
   "source": [
    "---\n",
    "[上一节](01.overview.ipynb) | [下一节](03.install.ipynb) | [返回首页](00.index.ipynb) "
   ]
  }
 ],
 "metadata": {
  "kernelspec": {
   "display_name": "Python 3 (ipykernel)",
   "language": "python",
   "name": "python3"
  },
  "language_info": {
   "codemirror_mode": {
    "name": "ipython",
    "version": 3
   },
   "file_extension": ".py",
   "mimetype": "text/x-python",
   "name": "python",
   "nbconvert_exporter": "python",
   "pygments_lexer": "ipython3",
   "version": "3.8.10"
  }
 },
 "nbformat": 4,
 "nbformat_minor": 5
}
