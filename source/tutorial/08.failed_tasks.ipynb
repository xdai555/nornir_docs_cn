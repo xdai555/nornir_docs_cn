{
 "cells": [
  {
   "cell_type": "markdown",
   "id": "709000f9-22f6-4ad4-8889-b1c46a61fe39",
   "metadata": {},
   "source": [
    "## 处理失败任务\n",
    "\n",
    "任务执行失败是不可避免的，现在接着上一节的示例来看下如何处理失败的任务。\n",
    "\n",
    "上一节中的示例代码："
   ]
  },
  {
   "cell_type": "code",
   "execution_count": 1,
   "id": "a043500c-36e1-4a15-8c2a-9ed7618d4021",
   "metadata": {},
   "outputs": [],
   "source": [
    "import logging\n",
    "\n",
    "from nornir import InitNornir\n",
    "from nornir.core.task import Task, Result\n",
    "from nornir_utils.plugins.functions import print_result\n",
    "\n",
    "nr = InitNornir(config_file=\"files/config.yaml\")\n",
    "spine_bj = nr.filter(site=\"bj\", role=\"spine\")\n",
    "\n",
    "def count(task: Task, number: int) -> Result:\n",
    "    return Result(\n",
    "        host=task.host,\n",
    "        result=f\"{[n for n in range(0, number)]}\"\n",
    "    )\n",
    "\n",
    "def say(task: Task, text: str) -> Result:\n",
    "    if task.host.name == \"spine01.bj\":\n",
    "        raise Exception(f\"{task.host.name} 不能输出信息\")\n",
    "    return Result(\n",
    "        host=task.host,\n",
    "        result=f\"{task.host.name} says {text}\"\n",
    "    )\n",
    "\n",
    "def greet_and_count(task: Task, number: int) -> Result:\n",
    "    task.run(\n",
    "        name=\"你好~\",\n",
    "        severity_level=logging.DEBUG,\n",
    "        task=say,\n",
    "        text=\"Hi~\",\n",
    "    )\n",
    "    \n",
    "    task.run(\n",
    "        name=\"计数\",\n",
    "        task=count,\n",
    "        number=number,\n",
    "    )\n",
    "    \n",
    "    task.run(\n",
    "        name=\"再见\",\n",
    "        severity_level=logging.DEBUG,\n",
    "        task=say,\n",
    "        text=\"byebye.\"\n",
    "    )\n",
    "    \n",
    "    # 计算打招呼打了奇数次还是偶数次\n",
    "    even_or_odds = \"even\" if number % 2 == 1 else \"odd\"\n",
    "    return Result(\n",
    "        host=task.host,\n",
    "        result = f\"{task.host} counted {even_or_odds} times!\",\n",
    "    )\n",
    "\n",
    "result = spine_bj.run(\n",
    "    task=greet_and_count,\n",
    "    number=5\n",
    ")"
   ]
  },
  {
   "cell_type": "markdown",
   "id": "d14ecf13-52e2-4a11-9d52-3abd359f939c",
   "metadata": {},
   "source": [
    "在这段示例代码中，任务 `say` 针对 `spine01.bj` 主机抛出了一个异常，这导致整个任务的执行结果是失败的："
   ]
  },
  {
   "cell_type": "code",
   "execution_count": 2,
   "id": "76f3073f-8c09-424b-aef7-b11b3ad90cd4",
   "metadata": {},
   "outputs": [
    {
     "data": {
      "text/plain": [
       "True"
      ]
     },
     "execution_count": 2,
     "metadata": {},
     "output_type": "execute_result"
    }
   ],
   "source": [
    "result.failed"
   ]
  },
  {
   "cell_type": "code",
   "execution_count": 3,
   "id": "b9a95775-ba6f-450f-a53a-550829c02238",
   "metadata": {},
   "outputs": [
    {
     "data": {
      "text/plain": [
       "{'spine01.bj': MultiResult: [Result: \"greet_and_count\", Result: \"你好~\"]}"
      ]
     },
     "execution_count": 3,
     "metadata": {},
     "output_type": "execute_result"
    }
   ],
   "source": [
    "# 查看是哪些主机导致了失败\n",
    "result.failed_hosts"
   ]
  },
  {
   "cell_type": "markdown",
   "id": "9a11abf6-1064-4c2e-b3f9-12bb389f52e9",
   "metadata": {},
   "source": [
    "如果任务发生了失败，可以通过 `exception` 显示异常信息："
   ]
  },
  {
   "cell_type": "code",
   "execution_count": 4,
   "id": "1704e314-e1fd-433c-998e-0c5b1f185f29",
   "metadata": {},
   "outputs": [
    {
     "data": {
      "text/plain": [
       "nornir.core.exceptions.NornirSubTaskError()"
      ]
     },
     "execution_count": 4,
     "metadata": {},
     "output_type": "execute_result"
    }
   ],
   "source": [
    "result[\"spine01.bj\"].exception"
   ]
  },
  {
   "cell_type": "markdown",
   "id": "966eaa9e-cb8c-4f5c-9b24-d430276af46d",
   "metadata": {},
   "source": [
    "上一条命令显示结果是子任务错误，可以通过列表取值来查看错误信息："
   ]
  },
  {
   "cell_type": "code",
   "execution_count": 5,
   "id": "52da447d-6d24-43b0-ab13-c8dfa215e882",
   "metadata": {},
   "outputs": [
    {
     "data": {
      "text/plain": [
       "Exception('spine01.bj 不能输出信息')"
      ]
     },
     "execution_count": 5,
     "metadata": {},
     "output_type": "execute_result"
    }
   ],
   "source": [
    "result[\"spine01.bj\"][1].exception"
   ]
  },
  {
   "cell_type": "markdown",
   "id": "65773d77-14c9-44ea-a369-46b90e93fc0d",
   "metadata": {},
   "source": [
    "想要查看更具体的信息，可以使用 `print_result` 查看具体的异常信息："
   ]
  },
  {
   "cell_type": "code",
   "execution_count": 6,
   "id": "fc9155d6-3b3d-4f61-8f77-54d4685b0c36",
   "metadata": {},
   "outputs": [
    {
     "name": "stdout",
     "output_type": "stream",
     "text": [
      "\u001b[1m\u001b[31mvvvv spine01.bj: greet_and_count ** changed : False vvvvvvvvvvvvvvvvvvvvvvvvvvvv ERROR\u001b[0m\n",
      "\u001b[0mSubtask: 你好~ (failed)\n",
      "\u001b[0m\n",
      "\u001b[0m\u001b[1m\u001b[31m---- 你好~ ** changed : False ---------------------------------------------------- ERROR\u001b[0m\n",
      "\u001b[0mTraceback (most recent call last):\n",
      "  File \"c:\\program files\\python38\\lib\\site-packages\\nornir\\core\\task.py\", line 99, in start\n",
      "    r = self.task(self, **self.params)\n",
      "  File \"C:\\Users\\xdai\\AppData\\Local\\Temp/ipykernel_35768/1441132238.py\", line 18, in say\n",
      "    raise Exception(f\"{task.host.name} 不能输出信息\")\n",
      "Exception: spine01.bj 不能输出信息\n",
      "\u001b[0m\n",
      "\u001b[0m\u001b[1m\u001b[31m^^^^ END greet_and_count ^^^^^^^^^^^^^^^^^^^^^^^^^^^^^^^^^^^^^^^^^^^^^^^^^^^^^^^\u001b[0m\n",
      "\u001b[0m"
     ]
    }
   ],
   "source": [
    "print_result(result[\"spine01.bj\"])"
   ]
  },
  {
   "cell_type": "markdown",
   "id": "eb208e6b-6921-478e-bbff-4e7ab51940de",
   "metadata": {},
   "source": [
    "在处理任务执行结果的过程中，如果有执行出错的话，还会抛出 `NornirExecutionError` 异常，可以使用 `raise_on_error` 方法来引出这个异常，然后使用 `try` 子句进行处理："
   ]
  },
  {
   "cell_type": "code",
   "execution_count": 7,
   "id": "3c7c9a9a-a187-4368-9753-a41d7977c77c",
   "metadata": {},
   "outputs": [
    {
     "name": "stdout",
     "output_type": "stream",
     "text": [
      "ERROR!!!\u001b[0m\n",
      "\u001b[0m"
     ]
    }
   ],
   "source": [
    "from nornir.core.exceptions import NornirExecutionError\n",
    "try:\n",
    "    result.raise_on_error()\n",
    "except NornirExecutionError:\n",
    "    print(\"ERROR!!!\")"
   ]
  },
  {
   "cell_type": "markdown",
   "id": "a7be75d8-b58a-491b-b288-91e56911f80a",
   "metadata": {},
   "source": [
    "### 跳过失败的主机\n",
    "\n",
    "Nornir 会跟踪记录任务执行失败的主机，然后不在该主机上运行其他新的任务。\n",
    "\n",
    "现在定义一个新的任务，并使用之前示例筛选出来的主机组 `spine_bj` 来执行该任务。\n",
    "\n",
    "这里需要注意一下： `spine_bj` 中有两个主机，但是之前示例中，`spine01.bj` 在执行任务组 `greet_and_count` 中失败了。"
   ]
  },
  {
   "cell_type": "code",
   "execution_count": 8,
   "id": "146ee53c-65c3-44e6-bcad-13427c804f45",
   "metadata": {},
   "outputs": [
    {
     "data": {
      "text/plain": [
       "{'spine00.bj': Host: spine00.bj, 'spine01.bj': Host: spine01.bj}"
      ]
     },
     "execution_count": 8,
     "metadata": {},
     "output_type": "execute_result"
    }
   ],
   "source": [
    "spine_bj.inventory.hosts"
   ]
  },
  {
   "cell_type": "code",
   "execution_count": 9,
   "id": "785ccd14-f778-4d92-8568-5c2e2bf0c18e",
   "metadata": {},
   "outputs": [],
   "source": [
    "from nornir.core.task import Result\n",
    "\n",
    "def hi(task: Task) -> Result:\n",
    "    return Result(\n",
    "        host=task.host,\n",
    "        result=f\"{task.host.name}: Hi, I am still here!\"\n",
    "    )\n",
    "\n",
    "result = spine_bj.run(hi)"
   ]
  },
  {
   "cell_type": "code",
   "execution_count": 10,
   "id": "b191b165-1c9e-4150-a55f-8d2187336b80",
   "metadata": {},
   "outputs": [
    {
     "name": "stdout",
     "output_type": "stream",
     "text": [
      "\u001b[1m\u001b[36mhi******************************************************************************\u001b[0m\n",
      "\u001b[0m\u001b[1m\u001b[34m* spine00.bj ** changed : False ************************************************\u001b[0m\n",
      "\u001b[0m\u001b[1m\u001b[32mvvvv hi ** changed : False vvvvvvvvvvvvvvvvvvvvvvvvvvvvvvvvvvvvvvvvvvvvvvvvvvvvv INFO\u001b[0m\n",
      "\u001b[0mspine00.bj: Hi, I am still here!\u001b[0m\n",
      "\u001b[0m\u001b[1m\u001b[32m^^^^ END hi ^^^^^^^^^^^^^^^^^^^^^^^^^^^^^^^^^^^^^^^^^^^^^^^^^^^^^^^^^^^^^^^^^^^^\u001b[0m\n",
      "\u001b[0m"
     ]
    }
   ],
   "source": [
    "print_result(result)"
   ]
  },
  {
   "cell_type": "markdown",
   "id": "e547a601-6162-4f75-a399-1c3340360198",
   "metadata": {},
   "source": [
    "查看执行出来的结果，只有第一台主机 `spine00.bj` 成功执行了新的任务。\n",
    "\n",
    "如果需要新任务在失败的主机上执行，需要在执行调用时添加 `on_failed=True`："
   ]
  },
  {
   "cell_type": "code",
   "execution_count": 11,
   "id": "994fc0b6-4c32-4489-aac8-81d4d2141aff",
   "metadata": {},
   "outputs": [
    {
     "name": "stdout",
     "output_type": "stream",
     "text": [
      "\u001b[1m\u001b[36mhi******************************************************************************\u001b[0m\n",
      "\u001b[0m\u001b[1m\u001b[34m* spine00.bj ** changed : False ************************************************\u001b[0m\n",
      "\u001b[0m\u001b[1m\u001b[32mvvvv hi ** changed : False vvvvvvvvvvvvvvvvvvvvvvvvvvvvvvvvvvvvvvvvvvvvvvvvvvvvv INFO\u001b[0m\n",
      "\u001b[0mspine00.bj: Hi, I am still here!\u001b[0m\n",
      "\u001b[0m\u001b[1m\u001b[32m^^^^ END hi ^^^^^^^^^^^^^^^^^^^^^^^^^^^^^^^^^^^^^^^^^^^^^^^^^^^^^^^^^^^^^^^^^^^^\u001b[0m\n",
      "\u001b[0m\u001b[1m\u001b[34m* spine01.bj ** changed : False ************************************************\u001b[0m\n",
      "\u001b[0m\u001b[1m\u001b[32mvvvv hi ** changed : False vvvvvvvvvvvvvvvvvvvvvvvvvvvvvvvvvvvvvvvvvvvvvvvvvvvvv INFO\u001b[0m\n",
      "\u001b[0mspine01.bj: Hi, I am still here!\u001b[0m\n",
      "\u001b[0m\u001b[1m\u001b[32m^^^^ END hi ^^^^^^^^^^^^^^^^^^^^^^^^^^^^^^^^^^^^^^^^^^^^^^^^^^^^^^^^^^^^^^^^^^^^\u001b[0m\n",
      "\u001b[0m"
     ]
    }
   ],
   "source": [
    "result = spine_bj.run(task=hi, on_failed=True)\n",
    "print_result(result)"
   ]
  },
  {
   "cell_type": "markdown",
   "id": "f3b903e1-3253-46cd-b0f6-1a9bd0de1b90",
   "metadata": {},
   "source": [
    "如果只想在失败的主机上执行新任务，可以使用 `on_good` 参数：\n",
    ">上一个代码框中使用了 `on_failed=True`，导致两个主机都执行成功了。如果想要验证 `on_good` ，需要再执行一下之前导致错误的任务组来看到这次的结果\n"
   ]
  },
  {
   "cell_type": "code",
   "execution_count": 12,
   "id": "6666a0da-b987-4e56-956c-700aee5a67f4",
   "metadata": {},
   "outputs": [],
   "source": [
    "# 这是上一节示例中执行失败的任务组，再次执行一下，来验证 `on_good`\n",
    "result = spine_bj.run(\n",
    "    task=greet_and_count,\n",
    "    number=5\n",
    ")"
   ]
  },
  {
   "cell_type": "code",
   "execution_count": 13,
   "id": "8e00e934-bb42-4d03-a786-d3e49551cf3f",
   "metadata": {},
   "outputs": [
    {
     "name": "stdout",
     "output_type": "stream",
     "text": [
      "\u001b[1m\u001b[36mhi******************************************************************************\u001b[0m\n",
      "\u001b[0m\u001b[1m\u001b[34m* spine01.bj ** changed : False ************************************************\u001b[0m\n",
      "\u001b[0m\u001b[1m\u001b[32mvvvv hi ** changed : False vvvvvvvvvvvvvvvvvvvvvvvvvvvvvvvvvvvvvvvvvvvvvvvvvvvvv INFO\u001b[0m\n",
      "\u001b[0mspine01.bj: Hi, I am still here!\u001b[0m\n",
      "\u001b[0m\u001b[1m\u001b[32m^^^^ END hi ^^^^^^^^^^^^^^^^^^^^^^^^^^^^^^^^^^^^^^^^^^^^^^^^^^^^^^^^^^^^^^^^^^^^\u001b[0m\n",
      "\u001b[0m"
     ]
    }
   ],
   "source": [
    "result = spine_bj.run(task=hi, on_failed=True, on_good=False)\n",
    "print_result(result)"
   ]
  },
  {
   "cell_type": "markdown",
   "id": "43bc4c19-2e46-4d3f-b419-85be0730d59c",
   "metadata": {},
   "source": [
    "可以看到只在失败的主机上执行了新任务。\n",
    "\n",
    "如何实现的呢？\n",
    "\n",
    "为了实现这种效果，nornir 是通过在 `data` 对象中添加了 `failed_hosts` 字段来让任务之间共享失败的主机（有关 `data` 对象，可以回顾一下[初始化 Nornir](04.initializing_nornir.ipynb)）："
   ]
  },
  {
   "cell_type": "code",
   "execution_count": 14,
   "id": "46892ad9-d756-4918-b949-092e933fd0f5",
   "metadata": {},
   "outputs": [
    {
     "data": {
      "text/plain": [
       "{'spine01.bj'}"
      ]
     },
     "execution_count": 14,
     "metadata": {},
     "output_type": "execute_result"
    }
   ],
   "source": [
    "nr.data.failed_hosts"
   ]
  },
  {
   "cell_type": "markdown",
   "id": "9b3b1547-57cb-4968-8d78-c4b20d8cb5d1",
   "metadata": {},
   "source": [
    "如果要将某些主机标记为成功并让它们重新符合执行新任务的资格，可以使用函数 `recovery_host` 为某个主机单独执行此操作，或者使用 `reset_failed_hosts` 完全重置失败列表："
   ]
  },
  {
   "cell_type": "code",
   "execution_count": 15,
   "id": "5e241eab-075c-4723-8df9-d70cc1ff180b",
   "metadata": {},
   "outputs": [
    {
     "data": {
      "text/plain": [
       "set()"
      ]
     },
     "execution_count": 15,
     "metadata": {},
     "output_type": "execute_result"
    }
   ],
   "source": [
    "nr.data.recover_host('spine01.bj')\n",
    "nr.data.failed_hosts"
   ]
  },
  {
   "cell_type": "code",
   "execution_count": 16,
   "id": "12ae5049-c295-4901-9842-5059e364145c",
   "metadata": {},
   "outputs": [
    {
     "data": {
      "text/plain": [
       "set()"
      ]
     },
     "execution_count": 16,
     "metadata": {},
     "output_type": "execute_result"
    }
   ],
   "source": [
    "nr.data.reset_failed_hosts()\n",
    "nr.data.failed_hosts"
   ]
  },
  {
   "cell_type": "markdown",
   "id": "dcbb2a8b-7ae0-4f2d-86ad-362e22cce8ec",
   "metadata": {},
   "source": [
    "### 自动抛出异常\n",
    "\n",
    "一般情况下，如果任务执行出错，只能在最终打印任务结果时看到错误信息，如果需要及时反馈或者处理失败的失误，可以在初始化 nornir 对象时添加 `raise_on_error` 来让任务出错时自动引发异常："
   ]
  },
  {
   "cell_type": "code",
   "execution_count": 17,
   "id": "1372c084-21e2-4b9f-87ac-2bed5040804e",
   "metadata": {},
   "outputs": [
    {
     "name": "stdout",
     "output_type": "stream",
     "text": [
      "ERROR!!!\u001b[0m\n",
      "\u001b[0m"
     ]
    }
   ],
   "source": [
    "nr = InitNornir(\n",
    "    config_file=\"files/config.yaml\",\n",
    "    core = {\"raise_on_error\": True}\n",
    "    )\n",
    "spine_bj = nr.filter(site='bj', role='spine')\n",
    "\n",
    "try:\n",
    "    result = spine_bj.run(\n",
    "        task=greet_and_count,\n",
    "        number=5,\n",
    "        )\n",
    "except NornirExecutionError:\n",
    "    print(\"ERROR!!!\")"
   ]
  },
  {
   "cell_type": "markdown",
   "id": "7421fda6-bd04-43c7-b751-8d89248cb424",
   "metadata": {},
   "source": [
    "### 工作流\n",
    "\n",
    "由任务组组成的工作流（Workflow）适用于大多数使用场景，因为它可以跳过出错的主机，并且 `print_result` 也提供了足够的信息来了解任务执行的结果。\n",
    "\n",
    "对于更复杂的工作流，也可以通过 nornir 来实现，因为这个框架足够灵活，接下来就来看看强大的处理器。"
   ]
  }
 ],
 "metadata": {
  "kernelspec": {
   "display_name": "Python 3 (ipykernel)",
   "language": "python",
   "name": "python3"
  },
  "language_info": {
   "codemirror_mode": {
    "name": "ipython",
    "version": 3
   },
   "file_extension": ".py",
   "mimetype": "text/x-python",
   "name": "python",
   "nbconvert_exporter": "python",
   "pygments_lexer": "ipython3",
   "version": "3.8.10"
  }
 },
 "nbformat": 4,
 "nbformat_minor": 5
}
