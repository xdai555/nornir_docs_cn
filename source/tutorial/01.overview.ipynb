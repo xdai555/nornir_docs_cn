{
 "cells": [
  {
   "cell_type": "markdown",
   "id": "7c5b9dcf",
   "metadata": {},
   "source": [
    "## 初识 Nornir\n",
    " \n",
    "### Nornir 是什么？\n",
    "\n",
    "Nornir 是一个用 Python 编写的自动化框架。它与有一些其他自动化框架的不同之处在于，你只需要编写 Python 代码来使用 Nornir，而其他框架需要使用框架自定义的配置语言（伪语言（[pseudo-language](https://encyclopedia2.thefreedictionary.com/pseudo+language)），注：需要用框架规定的语言格式来使用）。\n",
    "\n",
    "### 为什么说使用纯 Python 很重要？\n",
    "\n",
    "一般情况下，特定的配置语言可以快速上手使用。一段时间后，如果你需要使用更高级的特性，你可能必须需要另外一种编程语言来对其进行扩展（注：例如使用 SDK 进行二次封装），长此以往，二次封装后对原本的框架进行故障排除时造成很大的困难。\n",
    "\n",
    "由于 Nornir 使用的是纯 Python 代码，所以可以像处理任何其他 Python 代码一样对它进行故障排除和调试。\n",
    "\n",
    "### Nornir 和什么比较像？\n",
    "\n",
    "你可以将 Nornir 类比为 [Flask](https://flask.palletsprojects.com/en/2.0.x/)，Flask 是一个可以创建 Web 应用的 Web 框架。它提供了非常简单的用户接口来让你无需使用特定的方式工作就能创建出强大的网站。\n",
    "\n",
    "Nornir 提供封装了许多复杂工作的用户接口来让你完成网络设备的自动化。\n"
   ]
  },
  {
   "cell_type": "markdown",
   "id": "6fa459bd-aed7-4ce9-a210-17750ee66165",
   "metadata": {
    "tags": []
   },
   "source": [
    "---\n",
    "[上一节](00.index.ipynb) | [下一节](02.python.ipynb) | [返回首页](00.index.ipynb) "
   ]
  }
 ],
 "metadata": {
  "kernelspec": {
   "display_name": "Python 3 (ipykernel)",
   "language": "python",
   "name": "python3"
  },
  "language_info": {
   "codemirror_mode": {
    "name": "ipython",
    "version": 3
   },
   "file_extension": ".py",
   "mimetype": "text/x-python",
   "name": "python",
   "nbconvert_exporter": "python",
   "pygments_lexer": "ipython3",
   "version": "3.8.10"
  }
 },
 "nbformat": 4,
 "nbformat_minor": 5
}
