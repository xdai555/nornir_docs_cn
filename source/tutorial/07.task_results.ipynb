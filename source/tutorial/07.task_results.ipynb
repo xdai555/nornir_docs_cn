{
 "cells": [
  {
   "cell_type": "markdown",
   "id": "13de96df-cfc3-4870-acb2-805777733804",
   "metadata": {},
   "source": [
    "## 处理任务结果\n",
    "\n",
    "在这节中一起来看一下如何处理任务（Tasks）的运行结果。\n",
    "\n",
    "先看下面的示例："
   ]
  },
  {
   "cell_type": "code",
   "execution_count": 1,
   "id": "4a1c2b92-5446-4857-97b1-0f3c7b6be747",
   "metadata": {},
   "outputs": [],
   "source": [
    "import logging\n",
    "\n",
    "from nornir import InitNornir\n",
    "from nornir.core.task import Task, Result\n",
    "\n",
    "nr = InitNornir(config_file=\"files/config.yaml\")\n",
    "spine_bj = nr.filter(site=\"bj\", role=\"spine\")\n",
    "\n",
    "def count(task: Task, number: int) -> Result:\n",
    "    return Result(\n",
    "        host=task.host,\n",
    "        result=f\"{[n for n in range(0, number)]}\"\n",
    "    )\n",
    "\n",
    "def say(task: Task, text: str) -> Result:\n",
    "    if task.host.name == \"spine01.bj\":\n",
    "        raise Exception(f\"{task.host.name} 不能输出信息\")\n",
    "    return Result(\n",
    "        host=task.host,\n",
    "        result=f\"{task.host.name} says {text}\"\n",
    "    )"
   ]
  },
  {
   "cell_type": "markdown",
   "id": "0cd44e4d-1bc5-4353-b559-7b39d1ad67ce",
   "metadata": {},
   "source": [
    "这个示例与之前示例的区别是：通过 if 判断让主机 `spine01.bj` 强制抛出了一个错误信息。\n",
    "\n",
    "再继续编写任务组："
   ]
  },
  {
   "cell_type": "code",
   "execution_count": 2,
   "id": "0ffe143a-03e7-4ace-a200-2044a5024e10",
   "metadata": {},
   "outputs": [],
   "source": [
    "def greet_and_count(task: Task, number: int) -> Result:\n",
    "    task.run(\n",
    "        name=\"你好~\",\n",
    "        severity_level=logging.DEBUG,\n",
    "        task=say,\n",
    "        text=\"Hi~\",\n",
    "    )\n",
    "    \n",
    "    task.run(\n",
    "        name=\"计数\",\n",
    "        task=count,\n",
    "        number=number,\n",
    "    )\n",
    "    \n",
    "    task.run(\n",
    "        name=\"再见\",\n",
    "        severity_level=logging.DEBUG,\n",
    "        task=say,\n",
    "        text=\"byebye.\"\n",
    "    )\n",
    "    \n",
    "    # 计算打招呼打了奇数次还是偶数次\n",
    "    even_or_odds = \"even\" if number % 2 == 1 else \"odd\"\n",
    "    return Result(\n",
    "        host=task.host,\n",
    "        result = f\"{task.host} counted {even_or_odds} times!\",\n",
    "    )"
   ]
  },
  {
   "cell_type": "markdown",
   "id": "e85c411c-24e2-4fcb-817e-896a12b1af28",
   "metadata": {},
   "source": [
    "这个任务组与之前编写的任务组一样，不同的地方是添加了 `severity_level=logging.DEBUG` 来输出任务执行的日志。现在来运行一下任务组，并把运行结果赋值给 `result`："
   ]
  },
  {
   "cell_type": "code",
   "execution_count": 3,
   "id": "7256e098-a237-4329-8eb3-6d5e291342bd",
   "metadata": {},
   "outputs": [],
   "source": [
    "result = spine_bj.run(\n",
    "    task=greet_and_count,\n",
    "    number=5\n",
    ")"
   ]
  },
  {
   "cell_type": "markdown",
   "id": "90f86119-4df0-4c76-ad11-14342f82e034",
   "metadata": {},
   "source": [
    "### 简单的任务处理方法\n",
    "\n",
    "大多数情况下，如果只想知道任务的执行结果，可以使用 `nornir_utils` 里面的 `print_result` 函数，之前的示例中已经在使用它来查看结果了。"
   ]
  },
  {
   "cell_type": "code",
   "execution_count": 4,
   "id": "cece02d8-4a1d-469a-9cee-ee3b036ae1be",
   "metadata": {},
   "outputs": [
    {
     "name": "stdout",
     "output_type": "stream",
     "text": [
      "\u001b[1m\u001b[36mgreet_and_count*****************************************************************\u001b[0m\n",
      "\u001b[0m\u001b[1m\u001b[34m* spine00.bj ** changed : False ************************************************\u001b[0m\n",
      "\u001b[0m\u001b[1m\u001b[32mvvvv greet_and_count ** changed : False vvvvvvvvvvvvvvvvvvvvvvvvvvvvvvvvvvvvvvvv INFO\u001b[0m\n",
      "\u001b[0mspine00.bj counted even times!\u001b[0m\n",
      "\u001b[0m\u001b[1m\u001b[32m---- 计数 ** changed : False ----------------------------------------------------- INFO\u001b[0m\n",
      "\u001b[0m[0, 1, 2, 3, 4]\u001b[0m\n",
      "\u001b[0m\u001b[1m\u001b[32m^^^^ END greet_and_count ^^^^^^^^^^^^^^^^^^^^^^^^^^^^^^^^^^^^^^^^^^^^^^^^^^^^^^^\u001b[0m\n",
      "\u001b[0m\u001b[1m\u001b[34m* spine01.bj ** changed : False ************************************************\u001b[0m\n",
      "\u001b[0m\u001b[1m\u001b[31mvvvv greet_and_count ** changed : False vvvvvvvvvvvvvvvvvvvvvvvvvvvvvvvvvvvvvvvv ERROR\u001b[0m\n",
      "\u001b[0mSubtask: 你好~ (failed)\n",
      "\u001b[0m\n",
      "\u001b[0m\u001b[1m\u001b[31m---- 你好~ ** changed : False ---------------------------------------------------- ERROR\u001b[0m\n",
      "\u001b[0mTraceback (most recent call last):\n",
      "  File \"c:\\program files\\python38\\lib\\site-packages\\nornir\\core\\task.py\", line 99, in start\n",
      "    r = self.task(self, **self.params)\n",
      "  File \"C:\\Users\\xdai\\AppData\\Local\\Temp/ipykernel_16088/2400762698.py\", line 17, in say\n",
      "    raise Exception(f\"{task.host.name} 不能输出信息\")\n",
      "Exception: spine01.bj 不能输出信息\n",
      "\u001b[0m\n",
      "\u001b[0m\u001b[1m\u001b[31m^^^^ END greet_and_count ^^^^^^^^^^^^^^^^^^^^^^^^^^^^^^^^^^^^^^^^^^^^^^^^^^^^^^^\u001b[0m\n",
      "\u001b[0m"
     ]
    }
   ],
   "source": [
    "from nornir_utils.plugins.functions import print_result\n",
    "\n",
    "print_result(result)"
   ]
  },
  {
   "cell_type": "markdown",
   "id": "6f21f423-ed87-4420-93d4-32ac9d135af5",
   "metadata": {},
   "source": [
    "从结果中可以看到两台 `spine` 设备的执行结果，显示出来了两台主机上 `count` 任务的执行结果及第二台主机 `say` 任务的结果，仍然有一些其他的结果没有显示出来，下文将说明原因。\n",
    "\n",
    "现在来通过字典取值方式单独查看一下某台设备的任务执行结果："
   ]
  },
  {
   "cell_type": "code",
   "execution_count": 5,
   "id": "ee776c70-ac18-4467-ac80-cc4126d06229",
   "metadata": {},
   "outputs": [
    {
     "name": "stdout",
     "output_type": "stream",
     "text": [
      "\u001b[1m\u001b[32mvvvv spine00.bj: greet_and_count ** changed : False vvvvvvvvvvvvvvvvvvvvvvvvvvvv INFO\u001b[0m\n",
      "\u001b[0mspine00.bj counted even times!\u001b[0m\n",
      "\u001b[0m\u001b[1m\u001b[32m---- 计数 ** changed : False ----------------------------------------------------- INFO\u001b[0m\n",
      "\u001b[0m[0, 1, 2, 3, 4]\u001b[0m\n",
      "\u001b[0m\u001b[1m\u001b[32m^^^^ END greet_and_count ^^^^^^^^^^^^^^^^^^^^^^^^^^^^^^^^^^^^^^^^^^^^^^^^^^^^^^^\u001b[0m\n",
      "\u001b[0m"
     ]
    }
   ],
   "source": [
    "print_result(result[\"spine00.bj\"])"
   ]
  },
  {
   "cell_type": "markdown",
   "id": "3ac3b374-2b0c-4a94-aa93-a165c564ac37",
   "metadata": {},
   "source": [
    "或者查看某一个任务的执行结果："
   ]
  },
  {
   "cell_type": "code",
   "execution_count": 6,
   "id": "decae5e3-72f0-4f73-b8b7-d213a7466986",
   "metadata": {},
   "outputs": [
    {
     "name": "stdout",
     "output_type": "stream",
     "text": [
      "\u001b[1m\u001b[32m---- spine00.bj: 计数 ** changed : False ----------------------------------------- INFO\u001b[0m\n",
      "\u001b[0m[0, 1, 2, 3, 4]\u001b[0m\n",
      "\u001b[0m"
     ]
    }
   ],
   "source": [
    "print_result(result[\"spine00.bj\"][2])"
   ]
  },
  {
   "cell_type": "markdown",
   "id": "8fcaed67-5b8c-493e-9ad3-553b0ff1f6bb",
   "metadata": {},
   "source": [
    "从上面的几个处理结果的示例中可以看到，并不是所有的处理结果都显示出来了，这是因为指定了 `severity_level` 参数，可以用指定的日志级别来记录任务的执行结果。\n",
    "\n",
    "`print_result` 可以按照日志规则打印结果，默认情况下，它只打印严重级别大于 `INFO` 的任务（如果任务中没有指定日志级别，默认值也是`INFO`）。\n",
    " \n",
    "如果任务执行失败的话，它的严重级别是 `ERROR`，比 `INFO` 大，所以可以显示出来。上面的 `spine02.bj` 的第一个任务就是显示出来的错误信息。\n",
    "\n",
    "> 日志级别排序：CRITICAL > ERROR > WARNING > INFO > DEBUG\n",
    "\n",
    "可以通过设置 `print_result` 的参数来调整输出："
   ]
  },
  {
   "cell_type": "code",
   "execution_count": 7,
   "id": "cd8b9e9a-f73f-4cdf-87d6-da469877482c",
   "metadata": {},
   "outputs": [
    {
     "name": "stdout",
     "output_type": "stream",
     "text": [
      "\u001b[1m\u001b[36mgreet_and_count*****************************************************************\u001b[0m\n",
      "\u001b[0m\u001b[1m\u001b[34m* spine00.bj ** changed : False ************************************************\u001b[0m\n",
      "\u001b[0m\u001b[1m\u001b[32mvvvv greet_and_count ** changed : False vvvvvvvvvvvvvvvvvvvvvvvvvvvvvvvvvvvvvvvv INFO\u001b[0m\n",
      "\u001b[0mspine00.bj counted even times!\u001b[0m\n",
      "\u001b[0m\u001b[1m\u001b[32m---- 你好~ ** changed : False ---------------------------------------------------- DEBUG\u001b[0m\n",
      "\u001b[0mspine00.bj says Hi~\u001b[0m\n",
      "\u001b[0m\u001b[1m\u001b[32m---- 计数 ** changed : False ----------------------------------------------------- INFO\u001b[0m\n",
      "\u001b[0m[0, 1, 2, 3, 4]\u001b[0m\n",
      "\u001b[0m\u001b[1m\u001b[32m---- 再见 ** changed : False ----------------------------------------------------- DEBUG\u001b[0m\n",
      "\u001b[0mspine00.bj says byebye.\u001b[0m\n",
      "\u001b[0m\u001b[1m\u001b[32m^^^^ END greet_and_count ^^^^^^^^^^^^^^^^^^^^^^^^^^^^^^^^^^^^^^^^^^^^^^^^^^^^^^^\u001b[0m\n",
      "\u001b[0m\u001b[1m\u001b[34m* spine01.bj ** changed : False ************************************************\u001b[0m\n",
      "\u001b[0m\u001b[1m\u001b[31mvvvv greet_and_count ** changed : False vvvvvvvvvvvvvvvvvvvvvvvvvvvvvvvvvvvvvvvv ERROR\u001b[0m\n",
      "\u001b[0mSubtask: 你好~ (failed)\n",
      "\u001b[0m\n",
      "\u001b[0m\u001b[1m\u001b[31m---- 你好~ ** changed : False ---------------------------------------------------- ERROR\u001b[0m\n",
      "\u001b[0mTraceback (most recent call last):\n",
      "  File \"c:\\program files\\python38\\lib\\site-packages\\nornir\\core\\task.py\", line 99, in start\n",
      "    r = self.task(self, **self.params)\n",
      "  File \"C:\\Users\\xdai\\AppData\\Local\\Temp/ipykernel_16088/2400762698.py\", line 17, in say\n",
      "    raise Exception(f\"{task.host.name} 不能输出信息\")\n",
      "Exception: spine01.bj 不能输出信息\n",
      "\u001b[0m\n",
      "\u001b[0m\u001b[1m\u001b[31m^^^^ END greet_and_count ^^^^^^^^^^^^^^^^^^^^^^^^^^^^^^^^^^^^^^^^^^^^^^^^^^^^^^^\u001b[0m\n",
      "\u001b[0m"
     ]
    }
   ],
   "source": [
    "print_result(result, severity_level=logging.DEBUG)"
   ]
  },
  {
   "cell_type": "markdown",
   "id": "aef8365e-30fa-413d-a2cf-1a4e08c9a4dd",
   "metadata": {},
   "source": [
    "现在通过给 `print_result` 传递参数，已经可以看到所有任务的执行结果了，从显示任务名那一行的内容最后可以看到日志级别。"
   ]
  },
  {
   "cell_type": "markdown",
   "id": "a3a47252-6f3e-42f7-85db-58fba12e58f4",
   "metadata": {},
   "source": [
    "### 更详细的任务处理方法\n",
    "\n",
    "从上一小节的示例中，已经说明了如果处理任务的结果，现在详细说明一下。任务组（Task Groups）的返回结果是 `AggregatedResult` 对象，它是个类字典（dict-like）对象，所以可以像操作字典一样进行迭代或者访问。"
   ]
  },
  {
   "cell_type": "code",
   "execution_count": 8,
   "id": "31a8b40b-66b9-464f-9995-c8ac0217f373",
   "metadata": {},
   "outputs": [
    {
     "data": {
      "text/plain": [
       "AggregatedResult (greet_and_count): {'spine00.bj': MultiResult: [Result: \"greet_and_count\", Result: \"你好~\", Result: \"计数\", Result: \"再见\"], 'spine01.bj': MultiResult: [Result: \"greet_and_count\", Result: \"你好~\"]}"
      ]
     },
     "execution_count": 8,
     "metadata": {},
     "output_type": "execute_result"
    }
   ],
   "source": [
    "result"
   ]
  },
  {
   "cell_type": "code",
   "execution_count": 9,
   "id": "3fef7546-7a11-4d5a-9f46-2a4be37daa49",
   "metadata": {},
   "outputs": [
    {
     "data": {
      "text/plain": [
       "dict_keys(['spine00.bj', 'spine01.bj'])"
      ]
     },
     "execution_count": 9,
     "metadata": {},
     "output_type": "execute_result"
    }
   ],
   "source": [
    "result.keys()"
   ]
  },
  {
   "cell_type": "code",
   "execution_count": 10,
   "id": "0f149fae-a51c-4e94-b900-f0c6e3680191",
   "metadata": {},
   "outputs": [
    {
     "data": {
      "text/plain": [
       "MultiResult: [Result: \"greet_and_count\", Result: \"你好~\", Result: \"计数\", Result: \"再见\"]"
      ]
     },
     "execution_count": 10,
     "metadata": {},
     "output_type": "execute_result"
    }
   ],
   "source": [
    "result[\"spine00.bj\"]"
   ]
  },
  {
   "cell_type": "markdown",
   "id": "865012c2-03f8-4778-b18f-53352ec2493e",
   "metadata": {},
   "source": [
    "从上面的示例输出中可以看到，`AggregatedResult` 中的每个键都有一个`MultiResult` 对象。这个对象是一个类列表（list-like）的对象，里面存放着 `Result` 对象，可以使用列表的操作方式来迭代或访问 `Result` 对象："
   ]
  },
  {
   "cell_type": "code",
   "execution_count": 11,
   "id": "b165ddbd-77b4-45b8-95c6-8f1f92cf78fb",
   "metadata": {},
   "outputs": [
    {
     "data": {
      "text/plain": [
       "Result: \"greet_and_count\""
      ]
     },
     "execution_count": 11,
     "metadata": {},
     "output_type": "execute_result"
    }
   ],
   "source": [
    "result[\"spine00.bj\"][0]"
   ]
  },
  {
   "cell_type": "markdown",
   "id": "8391186a-6d76-44e8-97be-6b2e5f959dab",
   "metadata": {},
   "source": [
    "从 `MultiResult` 和 `Result` 中可以看到执行对象中是否有错误或变化："
   ]
  },
  {
   "cell_type": "code",
   "execution_count": 12,
   "id": "6959a68b-3958-4f61-8af9-4b810aecabf9",
   "metadata": {},
   "outputs": [
    {
     "name": "stdout",
     "output_type": "stream",
     "text": [
      "changed: False\u001b[0m\n",
      "\u001b[0mfailed: False\u001b[0m\n",
      "\u001b[0m"
     ]
    }
   ],
   "source": [
    "print(f'changed: {result[\"spine00.bj\"].changed}')\n",
    "print(f'failed: {result[\"spine00.bj\"].failed}')"
   ]
  },
  {
   "cell_type": "code",
   "execution_count": 13,
   "id": "3d5b6078-ce4b-4570-893e-84c8df7a379a",
   "metadata": {},
   "outputs": [
    {
     "name": "stdout",
     "output_type": "stream",
     "text": [
      "changed: False\u001b[0m\n",
      "\u001b[0mfailed: True\u001b[0m\n",
      "\u001b[0m"
     ]
    }
   ],
   "source": [
    "print(f'changed: {result[\"spine01.bj\"].changed}')\n",
    "print(f'failed: {result[\"spine01.bj\"].failed}')"
   ]
  },
  {
   "cell_type": "markdown",
   "id": "d1fad053-522e-4000-a526-1a591c5e0d8d",
   "metadata": {},
   "source": [
    "如果运行前后对目标系统造成了改变，可以通过 `diff` 显示出来，当前示例中执行的任务组没有产生变化，所以输出为空："
   ]
  },
  {
   "cell_type": "code",
   "execution_count": 14,
   "id": "b126edc1-201e-4517-8cb5-3a130f99756a",
   "metadata": {},
   "outputs": [
    {
     "name": "stdout",
     "output_type": "stream",
     "text": [
      "diff: \u001b[0m\n",
      "\u001b[0m"
     ]
    }
   ],
   "source": [
    "print(f'diff: {result[\"spine01.bj\"].diff}')"
   ]
  },
  {
   "cell_type": "markdown",
   "id": "4647b1fe-2948-49df-b4dc-4b250c971ec1",
   "metadata": {},
   "source": [
    "---\n",
    "[上一节](06.tasks.ipynb) | [下一节](08.failed_tasks.ipynb) | [返回首页](00.index.ipynb)"
   ]
  }
 ],
 "metadata": {
  "kernelspec": {
   "display_name": "Python 3 (ipykernel)",
   "language": "python",
   "name": "python3"
  },
  "language_info": {
   "codemirror_mode": {
    "name": "ipython",
    "version": 3
   },
   "file_extension": ".py",
   "mimetype": "text/x-python",
   "name": "python",
   "nbconvert_exporter": "python",
   "pygments_lexer": "ipython3",
   "version": "3.8.10"
  }
 },
 "nbformat": 4,
 "nbformat_minor": 5
}
