{
 "cells": [
  {
   "cell_type": "markdown",
   "id": "57fcb2cd-9a16-4c83-9a35-dd2ea95858aa",
   "metadata": {},
   "source": [
    "## 初始化 Nornir\n",
    "\n",
    "初始化 Nornir 对象的方法是使用 `InitNornir` 函数。\n",
    "\n",
    "`InitNornir` 可以使用配置文件、代码或者两者结合起来使用来初始化一个 Nornir 对象。\n",
    "\n",
    "先从配置文件开始看，下面是一个 Nornir 的[配置文件](files/config.yaml)。"
   ]
  },
  {
   "cell_type": "code",
   "execution_count": 1,
   "id": "e463abf2-02c6-4073-ba2e-bb9502ca1b0d",
   "metadata": {},
   "outputs": [],
   "source": [
    "# %load files/config.yaml\n",
    "---\n",
    "inventory:\n",
    "    plugin: SimpleInventory\n",
    "    options:\n",
    "        host_file: \"files/inventory/hosts.yaml\"\n",
    "        group_file: \"files/inventory/groups.yaml\"\n",
    "        defaults_file: \"files/inventory/defaults.yaml\"\n",
    "runner:\n",
    "    plugin: threaded\n",
    "    options:\n",
    "        num_workers: 100"
   ]
  },
  {
   "cell_type": "markdown",
   "id": "bcd2eb96-c203-407d-883a-77ebc78a5aa0",
   "metadata": {
    "tags": []
   },
   "source": [
    "现在你可以创建一个 Nornir 对象："
   ]
  },
  {
   "cell_type": "code",
   "execution_count": 2,
   "id": "cb667105-879f-4354-91ae-5957e51d1033",
   "metadata": {
    "tags": []
   },
   "outputs": [],
   "source": [
    "from nornir import InitNornir\r\n",
    "nr = InitNornir(config_file=\"files/config.yaml\")"
   ]
  },
  {
   "cell_type": "markdown",
   "id": "8bec90e4-2adb-4c06-86da-271448d72fe1",
   "metadata": {},
   "source": [
    "也可以不用配置文件，通过传参的方式来初始化 Nornir 对象，如下："
   ]
  },
  {
   "cell_type": "code",
   "execution_count": 3,
   "id": "1090387f-f47a-4a21-adf0-3c0fc2818e28",
   "metadata": {},
   "outputs": [],
   "source": [
    "from nornir import InitNornir\r\n",
    "\r\n",
    "nr = InitNornir(\r\n",
    "        runner={\r\n",
    "            \"plugin\": \"threaded\",\r\n",
    "            \"options\": {\r\n",
    "                \"num_workers\": 100,\r\n",
    "            },\r\n",
    "        },\r\n",
    "        inventory={\r\n",
    "            \"plugin\": \"SimpleInventory\",\r\n",
    "            \"options\": {\r\n",
    "                \"host_file\": \"files/inventory/hosts.yaml\",\r\n",
    "                \"group_file\": \"files/inventory/groups.yaml\",\r\n",
    "            },\r\n",
    "        },\r\n",
    ")"
   ]
  },
  {
   "cell_type": "markdown",
   "id": "a3c114f0-da05-4084-89f3-2f554c618cf7",
   "metadata": {},
   "source": [
    "或者两种方式混合使用："
   ]
  },
  {
   "cell_type": "code",
   "execution_count": 4,
   "id": "591d08f4-6ed3-42f6-b4d3-6e6a55b7681f",
   "metadata": {},
   "outputs": [],
   "source": [
    "from nornir import InitNornir\n",
    "nr = InitNornir(\n",
    "    config_file=\"files/config.yaml\",\n",
    "    runner={\n",
    "        \"plugin\": \"threaded\",\n",
    "        \"options\": {\n",
    "            \"num_workers\": 100,\n",
    "        },\n",
    "    },\n",
    ")"
   ]
  },
  {
   "cell_type": "markdown",
   "id": "bb81fdff-f3e6-4853-82dc-895487f6a78c",
   "metadata": {},
   "source": [
    "Nornir 对象有一个 `dict` 方法，可以看到 data 和 inventory 相关的信息，执行下面代码可以查看："
   ]
  },
  {
   "cell_type": "code",
   "execution_count": 5,
   "id": "17f7dfcd-0cb1-43e0-81f5-95717414f669",
   "metadata": {
    "collapsed": true,
    "jupyter": {
     "outputs_hidden": true
    },
    "tags": []
   },
   "outputs": [
    {
     "name": "stdout",
     "output_type": "stream",
     "text": [
      "{'data': {'dry_run': False, 'failed_hosts': set()},\n",
      " 'inventory': {'defaults': {'connection_options': {},\n",
      "                            'data': {'domain': 'netdevops.local'},\n",
      "                            'hostname': None,\n",
      "                            'password': None,\n",
      "                            'platform': None,\n",
      "                            'port': None,\n",
      "                            'username': None},\n",
      "               'groups': {'bj': {'connection_options': {},\n",
      "                                 'data': {},\n",
      "                                 'groups': ['north', 'global'],\n",
      "                                 'hostname': None,\n",
      "                                 'name': 'bj',\n",
      "                                 'password': None,\n",
      "                                 'platform': None,\n",
      "                                 'port': None,\n",
      "                                 'username': None},\n",
      "                          'global': {'connection_options': {},\n",
      "                                     'data': {'asn': 1,\n",
      "                                              'domain': 'global.local'},\n",
      "                                     'groups': [],\n",
      "                                     'hostname': None,\n",
      "                                     'name': 'global',\n",
      "                                     'password': None,\n",
      "                                     'platform': None,\n",
      "                                     'port': None,\n",
      "                                     'username': None},\n",
      "                          'gz': {'connection_options': {},\n",
      "                                 'data': {'asn': 65000,\n",
      "                                          'vlans': {100: 'wired',\n",
      "                                                    200: 'wireless'}},\n",
      "                                 'groups': [],\n",
      "                                 'hostname': None,\n",
      "                                 'name': 'gz',\n",
      "                                 'password': None,\n",
      "                                 'platform': None,\n",
      "                                 'port': None,\n",
      "                                 'username': None},\n",
      "                          'north': {'connection_options': {},\n",
      "                                    'data': {'asn': 65100},\n",
      "                                    'groups': [],\n",
      "                                    'hostname': None,\n",
      "                                    'name': 'north',\n",
      "                                    'password': None,\n",
      "                                    'platform': None,\n",
      "                                    'port': None,\n",
      "                                    'username': None}},\n",
      "               'hosts': {'host00': {'connection_options': {},\n",
      "                                    'data': {},\n",
      "                                    'groups': ['gz', 'bj'],\n",
      "                                    'hostname': None,\n",
      "                                    'name': 'host00',\n",
      "                                    'password': None,\n",
      "                                    'platform': None,\n",
      "                                    'port': None,\n",
      "                                    'username': None},\n",
      "                         'host01': {'connection_options': {},\n",
      "                                    'data': {},\n",
      "                                    'groups': ['bj', 'gz'],\n",
      "                                    'hostname': None,\n",
      "                                    'name': 'host01',\n",
      "                                    'password': None,\n",
      "                                    'platform': None,\n",
      "                                    'port': None,\n",
      "                                    'username': None},\n",
      "                         'host01.bj': {'connection_options': {},\n",
      "                                       'data': {'nested_data': {'a_dict': {'a': 1,\n",
      "                                                                           'b': 2},\n",
      "                                                                'a_list': [1,\n",
      "                                                                           2],\n",
      "                                                                'a_string': 'this '\n",
      "                                                                            'is '\n",
      "                                                                            'a '\n",
      "                                                                            'web '\n",
      "                                                                            'server'},\n",
      "                                                'role': 'host',\n",
      "                                                'site': 'bj',\n",
      "                                                'type': 'host'},\n",
      "                                       'groups': ['bj'],\n",
      "                                       'hostname': '127.0.0.1',\n",
      "                                       'name': 'host01.bj',\n",
      "                                       'password': 'netdevops',\n",
      "                                       'platform': 'linux',\n",
      "                                       'port': 2201,\n",
      "                                       'username': 'netdevops'},\n",
      "                         'host01.gz': {'connection_options': {},\n",
      "                                       'data': {'role': 'host',\n",
      "                                                'site': 'gz',\n",
      "                                                'type': 'host'},\n",
      "                                       'groups': ['gz'],\n",
      "                                       'hostname': None,\n",
      "                                       'name': 'host01.gz',\n",
      "                                       'password': None,\n",
      "                                       'platform': 'linux',\n",
      "                                       'port': None,\n",
      "                                       'username': None},\n",
      "                         'leaf00.bj': {'connection_options': {},\n",
      "                                       'data': {'asn': 65100,\n",
      "                                                'role': 'leaf',\n",
      "                                                'site': 'bj',\n",
      "                                                'type': 'network_device'},\n",
      "                                       'groups': ['bj'],\n",
      "                                       'hostname': '127.0.0.1',\n",
      "                                       'name': 'leaf00.bj',\n",
      "                                       'password': 'netdevops',\n",
      "                                       'platform': 'hp_comware',\n",
      "                                       'port': 12443,\n",
      "                                       'username': 'netdevops'},\n",
      "                         'leaf01.bj': {'connection_options': {},\n",
      "                                       'data': {'asn': 65101,\n",
      "                                                'role': 'leaf',\n",
      "                                                'site': 'bj',\n",
      "                                                'type': 'network_device'},\n",
      "                                       'groups': ['bj'],\n",
      "                                       'hostname': '127.0.0.1',\n",
      "                                       'name': 'leaf01.bj',\n",
      "                                       'password': '',\n",
      "                                       'platform': 'huawei',\n",
      "                                       'port': 12203,\n",
      "                                       'username': 'netdevops'},\n",
      "                         'leaf01.gz': {'connection_options': {},\n",
      "                                       'data': {'role': 'leaf',\n",
      "                                                'site': 'gz',\n",
      "                                                'type': 'network_device'},\n",
      "                                       'groups': ['gz'],\n",
      "                                       'hostname': '127.0.0.1',\n",
      "                                       'name': 'leaf01.gz',\n",
      "                                       'password': 'netdevops',\n",
      "                                       'platform': 'eos',\n",
      "                                       'port': 12443,\n",
      "                                       'username': 'netdevops'},\n",
      "                         'spine00.bj': {'connection_options': {},\n",
      "                                        'data': {'role': 'spine',\n",
      "                                                 'site': 'bj',\n",
      "                                                 'type': 'network_device'},\n",
      "                                        'groups': ['bj'],\n",
      "                                        'hostname': '127.0.0.1',\n",
      "                                        'name': 'spine00.bj',\n",
      "                                        'password': 'netdevops',\n",
      "                                        'platform': 'ios',\n",
      "                                        'port': 12444,\n",
      "                                        'username': 'netdevops'},\n",
      "                         'spine01.bj': {'connection_options': {},\n",
      "                                        'data': {'role': 'spine',\n",
      "                                                 'site': 'bj',\n",
      "                                                 'type': 'network_device'},\n",
      "                                        'groups': ['bj'],\n",
      "                                        'hostname': '127.0.0.1',\n",
      "                                        'name': 'spine01.bj',\n",
      "                                        'password': '',\n",
      "                                        'platform': 'junos',\n",
      "                                        'port': 12204,\n",
      "                                        'username': 'netdevops'},\n",
      "                         'spine01.gz': {'connection_options': {},\n",
      "                                        'data': {'role': 'spine',\n",
      "                                                 'site': 'gz',\n",
      "                                                 'type': 'network_device'},\n",
      "                                        'groups': ['gz'],\n",
      "                                        'hostname': '127.0.0.1',\n",
      "                                        'name': 'spine01.gz',\n",
      "                                        'password': 'netdevops',\n",
      "                                        'platform': 'eos',\n",
      "                                        'port': 12444,\n",
      "                                        'username': 'netdevops'}}}}\n"
     ]
    }
   ],
   "source": [
    "from pprint import pprint as print\n",
    "print(nr.dict())"
   ]
  },
  {
   "cell_type": "markdown",
   "id": "3b080db1-cd72-4aeb-96c6-e728539ce2d6",
   "metadata": {},
   "source": [
    "这里看到的是运行时指定的 data 参数和所有的主机信息，配置相关的信息则存储在 config 的 `dict` 方法里，这里可以看到包括默认配置在内的所有配置："
   ]
  },
  {
   "cell_type": "code",
   "execution_count": 6,
   "id": "5d3c7e41-0bff-4413-8419-62353c69d1dc",
   "metadata": {
    "tags": []
   },
   "outputs": [
    {
     "name": "stdout",
     "output_type": "stream",
     "text": [
      "{'core': {'raise_on_error': False},\n",
      " 'inventory': {'options': {'defaults_file': 'files/inventory/defaults.yaml',\n",
      "                           'group_file': 'files/inventory/groups.yaml',\n",
      "                           'host_file': 'files/inventory/hosts.yaml'},\n",
      "               'plugin': 'SimpleInventory',\n",
      "               'transform_function': '',\n",
      "               'transform_function_options': {}},\n",
      " 'logging': {'enabled': True,\n",
      "             'format': '%(asctime)s - %(name)12s - %(levelname)8s - '\n",
      "                       '%(funcName)10s() - %(message)s',\n",
      "             'level': 'INFO',\n",
      "             'log_file': 'nornir.log',\n",
      "             'loggers': ['nornir'],\n",
      "             'to_console': False},\n",
      " 'runner': {'options': {'num_workers': 100}, 'plugin': 'threaded'},\n",
      " 'ssh': {'config_file': 'C:\\\\Users\\\\xdai\\\\.ssh\\\\config'},\n",
      " 'user_defined': {}}\n"
     ]
    }
   ],
   "source": [
    "print(nr.config.dict())"
   ]
  },
  {
   "cell_type": "markdown",
   "id": "b063e535-4139-40c4-8623-28921c2b4637",
   "metadata": {},
   "source": [
    "从这两个例子可以看出，Nornir 数据相关的字段都是封装成字典的格式来返回给用户。如果想要取某个部分的值，就可以直接使用字典的方式来取，比如查看配置中的并发数量（注：Nornir 默认的线程池并发是 20）："
   ]
  },
  {
   "cell_type": "code",
   "execution_count": 7,
   "id": "9b15811a-b0f6-46f7-bc42-817de223901c",
   "metadata": {},
   "outputs": [
    {
     "name": "stdout",
     "output_type": "stream",
     "text": [
      "100\n"
     ]
    }
   ],
   "source": [
    "print(nr.config.runner.options[\"num_workers\"])"
   ]
  },
  {
   "cell_type": "markdown",
   "id": "0f935768-0b8b-42fa-9861-4fe3a8c16a42",
   "metadata": {},
   "source": [
    "---\n",
    "[上一节](03.install.ipynb) | [下一节](05.inventory.ipynb) | [返回首页](00.index.ipynb) "
   ]
  }
 ],
 "metadata": {
  "kernelspec": {
   "display_name": "Python 3 (ipykernel)",
   "language": "python",
   "name": "python3"
  },
  "language_info": {
   "codemirror_mode": {
    "name": "ipython",
    "version": 3
   },
   "file_extension": ".py",
   "mimetype": "text/x-python",
   "name": "python",
   "nbconvert_exporter": "python",
   "pygments_lexer": "ipython3",
   "version": "3.8.10"
  }
 },
 "nbformat": 4,
 "nbformat_minor": 5
}
