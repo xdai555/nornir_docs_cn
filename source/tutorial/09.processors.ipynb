{
 "cells": [
  {
   "cell_type": "markdown",
   "id": "2d7544be-20ba-4972-97ad-80379dd27c49",
   "metadata": {},
   "source": [
    "## 处理器\n",
    "\n",
    "在 Nornir 中 **处理器（Processors）** 是一种可以通过自定义代码处理某些事件的插件，它就是一个可以处理任务的装饰器，它在不改变任务结果的前提下，让用户可以自己编写代码对任务结果进行加工，为处理任务提供了更多的扩展性。它有一些优点：\n",
    "\n",
    "1. 由于处理器是基于事件（event-based）的，所以可以异步处理事件，例如在某台主机完成任务后马上处理该主机的结果，不用需等待其它主机完成任务。\n",
    "2. 基于事件编写的代码更简洁，更容易理解。\n",
    "\n",
    "来通过几个例子来看看处理器是如何工作的，先初始化一个 nornir 对象："
   ]
  },
  {
   "cell_type": "code",
   "execution_count": 1,
   "id": "7d01e5bf-06bd-4319-a427-c50a0bab5555",
   "metadata": {},
   "outputs": [],
   "source": [
    "from typing import Dict\n",
    "from nornir import InitNornir\n",
    "\n",
    "nr = InitNornir(config_file=\"files/config.yaml\")"
   ]
  },
  {
   "cell_type": "markdown",
   "id": "a09d38b2-70a9-4197-8e20-12d20163131d",
   "metadata": {},
   "source": [
    "编写一个处理器，它的作用是打印一些有关任务执行的信息："
   ]
  },
  {
   "cell_type": "code",
   "execution_count": 2,
   "id": "8b6b783b-1a91-4686-8065-20bc4acf1aec",
   "metadata": {},
   "outputs": [],
   "source": [
    "from nornir.core import Nornir\n",
    "from nornir.core.inventory import Host\n",
    "from nornir.core.task import Task, AggregatedResult, MultiResult, Result, Task\n",
    "\n",
    "class PrintResult:\n",
    "    # 任务开始运行时执行的动作\n",
    "    def task_started(self, task: Task) -> None:\n",
    "        print(f\" 任务[{task.name}] 开始执行 \".center(79, \"=\"))\n",
    "    \n",
    "    # 任务运行结束后执行的动作\n",
    "    def task_completed(self, task: Task, result: AggregatedResult) -> None:\n",
    "        print(f\" 任务[{task.name}]执行结束 \".center(79, \"=\"))\n",
    "    \n",
    "    # 任务分配给单台主机运行时执行的动作\n",
    "    def task_instance_started(self, task: Task, host: Host) -> None:\n",
    "        print(f\"任务[{task.name}]分配给主机[{host.name}]开始执行.\\n\")\n",
    "        \n",
    "    # 任务分配给单台主机运行完成后执行的动作\n",
    "    def task_instance_completed(\n",
    "        self, task: Task, host: Host, result: MultiResult\n",
    "    ) -> None:\n",
    "        print(f\"任务[{task.name}]分配给主机[{host.name}]执行完成，执行结果：{result.result} \\n\")\n",
    "        \n",
    "    # 子任务开始运行时执行的动作\n",
    "    def subtask_instance_started(self, task: Task, host: Host) -> None:\n",
    "        pass\n",
    "    \n",
    "    # 子任务结束运行时执行的动作\n",
    "    def subtask_instance_completed(\n",
    "        self, task: Task, host: Host, result: MultiResult\n",
    "    ) -> None:\n",
    "        pass"
   ]
  },
  {
   "cell_type": "markdown",
   "id": "c5c306b0-0e83-4d95-9a64-f736c72f487a",
   "metadata": {},
   "source": [
    "编写一个简单的任务，让自定义的处理器 `PrintResult` 来处理结果："
   ]
  },
  {
   "cell_type": "code",
   "execution_count": 3,
   "id": "3ebaaafc-d799-4def-9335-72b8ea571543",
   "metadata": {},
   "outputs": [],
   "source": [
    "def greeter(task: Task, greet: str) -> Result:\n",
    "    return Result(\n",
    "        host=task.host,\n",
    "        result=f\"{greet}! My name is {task.host.name}!\"\n",
    "    )"
   ]
  },
  {
   "cell_type": "markdown",
   "id": "a3fdfab3-4f09-4c92-9148-408f3e435064",
   "metadata": {},
   "source": [
    "要使用自定义的处理器，需要用到 nornir 对象的 `with_processors` 方法，这个方法需要传递一个 `Processer` 的列表对象 `Processers`，然后返回一个带有 `Processers` 的 nornir 对象："
   ]
  },
  {
   "cell_type": "code",
   "execution_count": 4,
   "id": "cd6009a8-6604-4a43-a12d-9790c38257b5",
   "metadata": {},
   "outputs": [
    {
     "name": "stdout",
     "output_type": "stream",
     "text": [
      "================================= 任务[Hi] 开始执行 =================================\n",
      "任务[Hi]分配给主机[spine00.bj]开始执行.\n",
      "\n",
      "任务[Hi]分配给主机[spine00.bj]执行完成，执行结果：Hi! My name is spine00.bj! \n",
      "\n",
      "任务[Hi]分配给主机[spine01.bj]开始执行.\n",
      "\n",
      "任务[Hi]分配给主机[spine01.gz]开始执行.\n",
      "任务[Hi]分配给主机[spine01.bj]执行完成，执行结果：Hi! My name is spine01.bj! \n",
      "\n",
      "\n",
      "任务[Hi]分配给主机[spine01.gz]执行完成，执行结果：Hi! My name is spine01.gz! \n",
      "\n",
      "================================== 任务[Hi]执行结束 =================================\n",
      "================================= 任务[Bye] 开始执行 ================================\n",
      "任务[Bye]分配给主机[spine00.bj]开始执行.\n",
      "任务[Bye]分配给主机[spine01.bj]开始执行.\n",
      "\n",
      "任务[Bye]分配给主机[spine01.bj]执行完成，执行结果：Bye! My name is spine01.bj! \n",
      "\n",
      "\n",
      "任务[Bye]分配给主机[spine01.gz]开始执行.\n",
      "\n",
      "任务[Bye]分配给主机[spine01.gz]执行完成，执行结果：Bye! My name is spine01.gz! \n",
      "\n",
      "任务[Bye]分配给主机[spine00.bj]执行完成，执行结果：Bye! My name is spine00.bj! \n",
      "\n",
      "================================= 任务[Bye]执行结束 =================================\n"
     ]
    },
    {
     "data": {
      "text/plain": [
       "AggregatedResult (Bye): {'spine00.bj': MultiResult: [Result: \"Bye\"], 'spine01.bj': MultiResult: [Result: \"Bye\"], 'spine01.gz': MultiResult: [Result: \"Bye\"]}"
      ]
     },
     "execution_count": 4,
     "metadata": {},
     "output_type": "execute_result"
    }
   ],
   "source": [
    "# 为了保持简洁，这里使用过滤器过滤所有角色是 `spine` 的主机来执行任务\n",
    "nr = nr.filter(role=\"spine\")\n",
    "nr_with_processors = nr.with_processors([PrintResult()])\n",
    "\n",
    "nr_with_processors.run(\n",
    "    task=greeter,\n",
    "    greet=\"Hi\",\n",
    "    name=\"Hi\",\n",
    ")\n",
    "\n",
    "nr_with_processors.run(\n",
    "    task=greeter,\n",
    "    greet=\"Bye\",\n",
    "    name=\"Bye\",\n",
    ")"
   ]
  },
  {
   "cell_type": "markdown",
   "id": "c76df34c-c18b-49e4-b1b9-14f0855ef35a",
   "metadata": {},
   "source": [
    "可以看到，任务执行完成后，它的过程都被打印出来了，这是由自定义的处理器 `PrintResult` 来完成的。\n",
    "\n",
    "打印结果是无序的，因为默认情况下 nornir 的任务是多线程异步执行的。\n",
    "\n",
    "前面说到 `with_processors` 方法需要传递一个 `Processers` 对象，这个对象是由 `Processer` 组成的列表。\n",
    "\n",
    "现在来再定义一个处理器，它的任务是将任务的信息保存在字典中。"
   ]
  },
  {
   "cell_type": "code",
   "execution_count": 5,
   "id": "3786c6dc-a2d7-43ed-948a-2cdb2bef719d",
   "metadata": {},
   "outputs": [],
   "source": [
    "class SaveResultToDict:\n",
    "    def __init__(self, data: Dict[str, None]) -> None:\n",
    "        self.data = data\n",
    "    \n",
    "    def task_started(self, task: Task) -> None:\n",
    "        self.data[task.name] = {}\n",
    "        self.data[task.name][\"started\"] = True\n",
    "        print(f\"任务开始信息已经保存到 {self.data.keys()}!\")\n",
    "        \n",
    "    def task_completed(self, task: Task, result: AggregatedResult) -> None:\n",
    "        self.data[task.name][\"completed\"] = True\n",
    "        print(f\"任务完成信息已经保存到 {self.data.keys()}!\")\n",
    "\n",
    "    def task_instance_started(self, task: Task, host: Host) -> None:\n",
    "        self.data[task.name][host.name] = {\"started\": True}\n",
    "        print(f\"主机[{host.name}]任务开始信息已经保存到 {self.data.keys()}!\")\n",
    "    \n",
    "    def task_instance_completed(\n",
    "        self, task: Task, host: Host, result: MultiResult\n",
    "    ) -> None:\n",
    "        self.data[task.name][host.name] = {\n",
    "            \"completed\": True,\n",
    "            \"result\": result.result,\n",
    "        }\n",
    "        print(f\"主机[{host.name}]任务完成信息已经保存到 {self.data.keys()}!\")\n",
    "\n",
    "    def subtask_instance_started(self, task: Task, host: Host) -> None:\n",
    "        pass\n",
    "\n",
    "    def subtask_instance_completed(\n",
    "        self, task: Task, host: Host, result: MultiResult\n",
    "    ) -> None:\n",
    "        pass "
   ]
  },
  {
   "cell_type": "markdown",
   "id": "1c6d64ea-8b13-4b0c-b783-8b24924e0b58",
   "metadata": {},
   "source": [
    "现在来再次执行任务 `greeter`，这次使用两个处理器 `SaveResultToDict` 和 `PrintResult` 来对任务进行处理："
   ]
  },
  {
   "cell_type": "code",
   "execution_count": 6,
   "id": "4d631210-dd69-4ddc-8ae1-a563f6198b09",
   "metadata": {},
   "outputs": [
    {
     "name": "stdout",
     "output_type": "stream",
     "text": [
      "================================= 任务[Hi] 开始执行 =================================\n",
      "任务开始信息已经保存到 dict_keys(['Hi'])!\n",
      "任务[Hi]分配给主机[spine00.bj]开始执行.\n",
      "\n",
      "主机[spine00.bj]任务开始信息已经保存到 dict_keys(['Hi'])!任务[Hi]分配给主机[spine01.bj]开始执行.\n",
      "\n",
      "\n",
      "任务[Hi]分配给主机[spine00.bj]执行完成，执行结果：Hi! My name is spine00.bj! \n",
      "\n",
      "主机[spine00.bj]任务完成信息已经保存到 dict_keys(['Hi'])!\n",
      "任务[Hi]分配给主机[spine01.gz]开始执行.\n",
      "\n",
      "主机[spine01.gz]任务开始信息已经保存到 dict_keys(['Hi'])!\n",
      "任务[Hi]分配给主机[spine01.gz]执行完成，执行结果：Hi! My name is spine01.gz! \n",
      "\n",
      "主机[spine01.gz]任务完成信息已经保存到 dict_keys(['Hi'])!\n",
      "主机[spine01.bj]任务开始信息已经保存到 dict_keys(['Hi'])!\n",
      "任务[Hi]分配给主机[spine01.bj]执行完成，执行结果：Hi! My name is spine01.bj! \n",
      "\n",
      "主机[spine01.bj]任务完成信息已经保存到 dict_keys(['Hi'])!\n",
      "================================== 任务[Hi]执行结束 =================================\n",
      "任务完成信息已经保存到 dict_keys(['Hi'])!\n",
      "================================= 任务[Bye] 开始执行 ================================\n",
      "任务开始信息已经保存到 dict_keys(['Hi', 'Bye'])!\n",
      "任务[Bye]分配给主机[spine00.bj]开始执行.\n",
      "\n",
      "主机[spine00.bj]任务开始信息已经保存到 dict_keys(['Hi', 'Bye'])!\n",
      "任务[Bye]分配给主机[spine00.bj]执行完成，执行结果：Bye! My name is spine00.bj! \n",
      "\n",
      "主机[spine00.bj]任务完成信息已经保存到 dict_keys(['Hi', 'Bye'])!\n",
      "任务[Bye]分配给主机[spine01.bj]开始执行.\n",
      "任务[Bye]分配给主机[spine01.gz]开始执行.\n",
      "\n",
      "主机[spine01.gz]任务开始信息已经保存到 dict_keys(['Hi', 'Bye'])!\n",
      "任务[Bye]分配给主机[spine01.gz]执行完成，执行结果：Bye! My name is spine01.gz! \n",
      "\n",
      "主机[spine01.gz]任务完成信息已经保存到 dict_keys(['Hi', 'Bye'])!\n",
      "\n",
      "主机[spine01.bj]任务开始信息已经保存到 dict_keys(['Hi', 'Bye'])!\n",
      "任务[Bye]分配给主机[spine01.bj]执行完成，执行结果：Bye! My name is spine01.bj! \n",
      "\n",
      "主机[spine01.bj]任务完成信息已经保存到 dict_keys(['Hi', 'Bye'])!\n",
      "================================= 任务[Bye]执行结束 =================================\n",
      "任务完成信息已经保存到 dict_keys(['Hi', 'Bye'])!\n"
     ]
    },
    {
     "data": {
      "text/plain": [
       "AggregatedResult (Bye): {'spine00.bj': MultiResult: [Result: \"Bye\"], 'spine01.bj': MultiResult: [Result: \"Bye\"], 'spine01.gz': MultiResult: [Result: \"Bye\"]}"
      ]
     },
     "execution_count": 6,
     "metadata": {},
     "output_type": "execute_result"
    }
   ],
   "source": [
    "data = {}\n",
    "\n",
    "nr_with_processors = nr.with_processors([PrintResult(),SaveResultToDict(data)])\n",
    "\n",
    "nr_with_processors.run(\n",
    "    task=greeter,\n",
    "    greet=\"Hi\",\n",
    "    name=\"Hi\",\n",
    ")\n",
    "\n",
    "nr_with_processors.run(\n",
    "    task=greeter,\n",
    "    greet=\"Bye\",\n",
    "    name=\"Bye\",\n",
    ")"
   ]
  },
  {
   "cell_type": "markdown",
   "id": "415869cf-db6d-4eb6-a713-37ecc49a8bc0",
   "metadata": {},
   "source": [
    "任务已经成功执行，并且两个处理器都按照预期进行工作，任务执行的最后也打印出了最后的结果： `AggregatedResult` 对象，事实上如果处理器里面已经对结果进行除了，这个对象也不需要再给它赋值然后再使用 `print_result` 打印出来了。\n",
    "\n",
    "> 这里注意一点，因为 `Processers` 是一个列表，所以它里面 `Processer` 的执行顺序是按照列表的顺序来运行的。\n",
    "\n",
    "接下来看一下处理器 `SaveResultToDict` 对 `data` 做的操作："
   ]
  },
  {
   "cell_type": "code",
   "execution_count": 7,
   "id": "7755b62d-750b-40b2-9bf8-c5c4fc90073c",
   "metadata": {},
   "outputs": [
    {
     "name": "stdout",
     "output_type": "stream",
     "text": [
      "{\n",
      "    \"Hi\": {\n",
      "        \"started\": true,\n",
      "        \"spine00.bj\": {\n",
      "            \"completed\": true,\n",
      "            \"result\": \"Hi! My name is spine00.bj!\"\n",
      "        },\n",
      "        \"spine01.gz\": {\n",
      "            \"completed\": true,\n",
      "            \"result\": \"Hi! My name is spine01.gz!\"\n",
      "        },\n",
      "        \"spine01.bj\": {\n",
      "            \"completed\": true,\n",
      "            \"result\": \"Hi! My name is spine01.bj!\"\n",
      "        },\n",
      "        \"completed\": true\n",
      "    },\n",
      "    \"Bye\": {\n",
      "        \"started\": true,\n",
      "        \"spine00.bj\": {\n",
      "            \"completed\": true,\n",
      "            \"result\": \"Bye! My name is spine00.bj!\"\n",
      "        },\n",
      "        \"spine01.gz\": {\n",
      "            \"completed\": true,\n",
      "            \"result\": \"Bye! My name is spine01.gz!\"\n",
      "        },\n",
      "        \"spine01.bj\": {\n",
      "            \"completed\": true,\n",
      "            \"result\": \"Bye! My name is spine01.bj!\"\n",
      "        },\n",
      "        \"completed\": true\n",
      "    }\n",
      "}\n"
     ]
    }
   ],
   "source": [
    "import json\n",
    "print(json.dumps(data, indent=4))"
   ]
  },
  {
   "cell_type": "markdown",
   "id": "bd793e90-1de4-443d-b932-a40aa2669130",
   "metadata": {},
   "source": [
    "通过以上两个示例，可以看到 **处理器（Processers）** 处理器的强大功能，通过它来操作处理任务结果更加简单，也无需通过 `print_result` 来查看任务结果。"
   ]
  },
  {
   "cell_type": "markdown",
   "id": "e05d1cc5-d53b-4c05-ae69-4683ed3df251",
   "metadata": {},
   "source": [
    "### 一些想法\n",
    "\n",
    "借助处理器还可以做哪些其他事情？\n",
    "\n",
    "1. 将任务执行事件发送到 slack/IRC/logging_system\n",
    "2. 让使用者可以关注到正在的执行的任务情况而无需等待所有主机的任务执行完成（尤其是当设备数量很多时）\n",
    "3. 如果某些任务失败，及时通知/发出警报\n",
    "4. 根据业务场景尽情发挥吧！\n",
    "\n",
    "\n",
    "\n",
    "Nornir 基础教程到这里就结束了，如果想要更加深入的了解，请继续阅读进阶部分。"
   ]
  },
  {
   "cell_type": "markdown",
   "id": "105b635f-0c9a-48ad-b5fb-18de4cbad534",
   "metadata": {},
   "source": [
    "---\n",
    "[上一节](08.failed_tasks.ipynb) | [下一节](#) | [返回首页](00.index.ipynb) "
   ]
  }
 ],
 "metadata": {
  "kernelspec": {
   "display_name": "Python 3 (ipykernel)",
   "language": "python",
   "name": "python3"
  },
  "language_info": {
   "codemirror_mode": {
    "name": "ipython",
    "version": 3
   },
   "file_extension": ".py",
   "mimetype": "text/x-python",
   "name": "python",
   "nbconvert_exporter": "python",
   "pygments_lexer": "ipython3",
   "version": "3.8.10"
  }
 },
 "nbformat": 4,
 "nbformat_minor": 5
}
